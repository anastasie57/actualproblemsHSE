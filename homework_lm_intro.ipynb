{
  "nbformat": 4,
  "nbformat_minor": 0,
  "metadata": {
    "colab": {
      "provenance": []
    },
    "kernelspec": {
      "name": "python3",
      "display_name": "Python 3"
    },
    "language_info": {
      "name": "python"
    }
  },
  "cells": [
    {
      "cell_type": "code",
      "source": [
        "!pip install razdel"
      ],
      "metadata": {
        "colab": {
          "base_uri": "https://localhost:8080/"
        },
        "id": "P9gOC083F2Q5",
        "outputId": "7fb02954-36dc-41d3-e1f8-51b76ebefbfe"
      },
      "execution_count": 2,
      "outputs": [
        {
          "output_type": "stream",
          "name": "stdout",
          "text": [
            "Collecting razdel\n",
            "  Downloading razdel-0.5.0-py3-none-any.whl (21 kB)\n",
            "Installing collected packages: razdel\n",
            "Successfully installed razdel-0.5.0\n"
          ]
        }
      ]
    },
    {
      "cell_type": "code",
      "source": [
        "from string import punctuation\n",
        "from razdel import sentenize\n",
        "from razdel import tokenize as razdel_tokenize\n",
        "import numpy as np\n",
        "from IPython.display import Image\n",
        "from IPython.core.display import HTML\n",
        "from collections import Counter\n",
        "from scipy.sparse import lil_matrix, csr_matrix, csc_matrix"
      ],
      "metadata": {
        "id": "nr4QWAnqCoyn"
      },
      "execution_count": 3,
      "outputs": []
    },
    {
      "cell_type": "code",
      "execution_count": 5,
      "metadata": {
        "id": "rU98NdM3CPMa"
      },
      "outputs": [],
      "source": [
        "news = open('lenta.txt', encoding = 'utf-8').read()"
      ]
    },
    {
      "cell_type": "code",
      "source": [
        "def normalize(text):\n",
        "    normalized_text = [word.text.strip(punctuation) for word \\\n",
        "                                                            in razdel_tokenize(text)]\n",
        "    normalized_text = [word.lower() for word in normalized_text if word and len(word) < 20 ]\n",
        "    return normalized_text"
      ],
      "metadata": {
        "id": "i9aB3z_kCsmX"
      },
      "execution_count": 6,
      "outputs": []
    },
    {
      "cell_type": "code",
      "source": [
        "import nltk\n",
        "nltk.download('punkt')"
      ],
      "metadata": {
        "colab": {
          "base_uri": "https://localhost:8080/"
        },
        "id": "2Y2BAKAyGlgr",
        "outputId": "70752fd0-1ef5-4d08-9a36-9d764151a083"
      },
      "execution_count": 10,
      "outputs": [
        {
          "output_type": "stream",
          "name": "stderr",
          "text": [
            "[nltk_data] Downloading package punkt to /root/nltk_data...\n",
            "[nltk_data]   Unzipping tokenizers/punkt.zip.\n"
          ]
        },
        {
          "output_type": "execute_result",
          "data": {
            "text/plain": [
              "True"
            ]
          },
          "metadata": {},
          "execution_count": 10
        }
      ]
    },
    {
      "cell_type": "code",
      "source": [
        "from nltk.tokenize import sent_tokenize\n",
        "def ngrammer(tokens, n):\n",
        "    ngrams = []\n",
        "    for i in range(0,len(tokens)-n+1):\n",
        "        ngrams.append(' '.join(tokens[i:i+n]))\n",
        "    return ngrams"
      ],
      "metadata": {
        "id": "R1kz96zrC52v"
      },
      "execution_count": 31,
      "outputs": []
    },
    {
      "cell_type": "code",
      "source": [
        "sentences_news = [['<start>'] + ['<start>'] + normalize(text) + ['<end>'] for text in sent_tokenize(news[:5000000])]"
      ],
      "metadata": {
        "id": "Tr9rvdkDDI2b"
      },
      "execution_count": 40,
      "outputs": []
    },
    {
      "cell_type": "code",
      "source": [
        "sentences_news = sentences_news[24:]"
      ],
      "metadata": {
        "id": "rXweKhGPHGBU"
      },
      "execution_count": 41,
      "outputs": []
    },
    {
      "cell_type": "code",
      "source": [
        "unigrams_news = Counter()\n",
        "bigrams_news = Counter()\n",
        "trigrams_news = Counter()\n",
        "\n",
        "for sentence in sentences_news:\n",
        "    unigrams_news.update(sentence)\n",
        "    bigrams_news.update(ngrammer(sentence, 2))\n",
        "    trigrams_news.update(ngrammer(sentence, 3))"
      ],
      "metadata": {
        "id": "Sbpoc6PXDnAJ"
      },
      "execution_count": 42,
      "outputs": []
    },
    {
      "cell_type": "code",
      "source": [
        "# матрица\n",
        "matrix_news = lil_matrix((len(bigrams_news),\n",
        "                         len(unigrams_news)))\n",
        "\n",
        "# к матрице нужно обращаться по индексам\n",
        "# поэтому зафиксируем порядок слов в словаре и сделаем маппинг id-слово и слово-id\n",
        "id2word = list(unigrams_news)\n",
        "word2id = {word:i for i, word in enumerate(id2word)}\n",
        "\n",
        "id2bigram = list(bigrams_news)\n",
        "bigram2id = {bigram:i for i, bigram in enumerate(id2bigram)}"
      ],
      "metadata": {
        "id": "PIo-gt-WD2F8"
      },
      "execution_count": 43,
      "outputs": []
    },
    {
      "cell_type": "code",
      "source": [
        "bigrams_news['<start> <start>']"
      ],
      "metadata": {
        "colab": {
          "base_uri": "https://localhost:8080/"
        },
        "id": "uiQz36wcD_1w",
        "outputId": "73a4dad5-6d94-4bcf-da4f-46c2c12ea54c"
      },
      "execution_count": 44,
      "outputs": [
        {
          "output_type": "execute_result",
          "data": {
            "text/plain": [
              "32226"
            ]
          },
          "metadata": {},
          "execution_count": 44
        }
      ]
    },
    {
      "cell_type": "code",
      "source": [
        "# заполняем матрицу\n",
        "for ngram in trigrams_news:\n",
        "    word1, word2, word3 = ngram.split()\n",
        "    bigram = word1 + ' ' + word2\n",
        "    matrix_news[bigram2id[bigram], word2id[word3]] =  (trigrams_news[ngram]/\n",
        "                                                                     bigrams_news[bigram])"
      ],
      "metadata": {
        "id": "b23lzMINEFY5"
      },
      "execution_count": 45,
      "outputs": []
    },
    {
      "cell_type": "code",
      "source": [
        "def generate(matrix, id2word, bigram2id, n=50, start='<start> <start>'):\n",
        "    text = []\n",
        "    current_bigram = start\n",
        "\n",
        "    for i in range(n):\n",
        "        current_bigram_idx = bigram2id[current_bigram]\n",
        "\n",
        "        chosen_word_idx = np.random.choice(matrix.shape[1], p=matrix[current_bigram_idx].toarray()[0])\n",
        "        chosen_word = id2word[chosen_word_idx]\n",
        "        text.append(chosen_word)\n",
        "\n",
        "        current_bigram = current_bigram.split()[1] + ' ' + chosen_word\n",
        "\n",
        "        if chosen_word == '<end>':\n",
        "            current_bigram = '<start> <start>'\n",
        "    return ' '.join(text)"
      ],
      "metadata": {
        "id": "qLGdAsStEU6W"
      },
      "execution_count": 46,
      "outputs": []
    },
    {
      "cell_type": "code",
      "source": [
        "print(generate(matrix_news, id2word, bigram2id).replace('<end>', '\\n'))"
      ],
      "metadata": {
        "colab": {
          "base_uri": "https://localhost:8080/"
        },
        "id": "4QANLvQFEiZU",
        "outputId": "4be659c7-b955-462f-d0b7-bb25fe8ea4d7"
      },
      "execution_count": 47,
      "outputs": [
        {
          "output_type": "stream",
          "name": "stdout",
          "text": [
            "по словам заместителя генерального прокурора василию колмогорову который таким образом более 20 подароков \n",
            " цена фьючерсов на сырую нефть может привести как к общейсети так и на центральных площадях некоторых городов сел и станиц чечни \n",
            " по неофициальным данным сообщает рбк \n",
            " в норвежском посольстве сказали что дети не будут\n"
          ]
        }
      ]
    },
    {
      "cell_type": "code",
      "source": [
        "def perp(logp, N):\n",
        "    return np.exp((-1/N) * logp)\n",
        "\n",
        "\n",
        "def compute_join_trigram(text, bigram_counts, trigram_counts):\n",
        "    prob = 0\n",
        "    tokens = normalize(text)\n",
        "    for ngram in ngrammer(['<start>', '<start>'] + tokens + ['<end>'], 3):\n",
        "        word1, word2, word3 = ngram.split()\n",
        "        bigram = word1 + ' ' + word2\n",
        "        if bigram in bigram_counts and ngram in trigram_counts:\n",
        "            prob += np.log(trigram_counts[ngram]/bigram_counts[bigram])\n",
        "        else:\n",
        "            prob += np.log(2e-5)\n",
        "\n",
        "    return prob, len(tokens)"
      ],
      "metadata": {
        "id": "x_jkbKFpEmJO"
      },
      "execution_count": 50,
      "outputs": []
    },
    {
      "cell_type": "code",
      "source": [
        "ps_trigram = []\n",
        "for sent in sent_tokenize(news[:2832]):\n",
        "    prob, N = compute_join_trigram(sent, bigrams_news, trigrams_news)\n",
        "    if not N:\n",
        "        continue\n",
        "    ps_trigram.append(perp(prob, N))\n",
        "\n",
        "np.mean(ps_trigram)"
      ],
      "metadata": {
        "colab": {
          "base_uri": "https://localhost:8080/"
        },
        "id": "PCBQ0TTtEq1K",
        "outputId": "f5fbf850-9bc0-4f18-a4ef-8fd0f0aea26a"
      },
      "execution_count": 51,
      "outputs": [
        {
          "output_type": "execute_result",
          "data": {
            "text/plain": [
              "96998.69162423717"
            ]
          },
          "metadata": {},
          "execution_count": 51
        }
      ]
    },
    {
      "cell_type": "code",
      "source": [
        "# новость\n",
        "phrase = 'По словам журналистов, в корпорации публично не раскрывают причину, однако представители Tesla сообщают ее в личном разговоре с покупателями автомобиля. '\n",
        "log_prob, N = compute_join_trigram(phrase, bigrams_news, trigrams_news)\n",
        "perp(log_prob, N)"
      ],
      "metadata": {
        "colab": {
          "base_uri": "https://localhost:8080/"
        },
        "id": "N328JUMTEynP",
        "outputId": "88c4b86d-f14d-426a-c66b-291e865913ae"
      },
      "execution_count": 52,
      "outputs": [
        {
          "output_type": "execute_result",
          "data": {
            "text/plain": [
              "35440.455250719046"
            ]
          },
          "metadata": {},
          "execution_count": 52
        }
      ]
    },
    {
      "cell_type": "code",
      "source": [
        "# твит\n",
        "phrase = 'итак из нового интервью моргенштерна мы узнали что дилара которая была с ним ещё до известности всегда хотела денег а онлифанщица которой он оплачивает курсы в лондоне арендует дом и покупает подарки не из-за этого'\n",
        "log_prob, N = compute_join_trigram(phrase, bigrams_news, trigrams_news)\n",
        "perp(log_prob, N)"
      ],
      "metadata": {
        "colab": {
          "base_uri": "https://localhost:8080/"
        },
        "id": "0e_4OIOBE1mk",
        "outputId": "23e2fb35-acc9-4bba-bf74-ae5992292825"
      },
      "execution_count": 56,
      "outputs": [
        {
          "output_type": "execute_result",
          "data": {
            "text/plain": [
              "67262.94860504026"
            ]
          },
          "metadata": {},
          "execution_count": 56
        }
      ]
    },
    {
      "cell_type": "code",
      "source": [
        "# твит\n",
        "phrase = 'Кошки уходят на охоту на много часов, и думают, что вы тоже охотитесь. А вот то, что вы через 8 часов приходите без единой мыши, сильно подрывает ваш авторитет.'\n",
        "log_prob, N = compute_join_trigram(phrase, bigrams_news, trigrams_news)\n",
        "perp(log_prob, N)"
      ],
      "metadata": {
        "colab": {
          "base_uri": "https://localhost:8080/"
        },
        "id": "txh7PRxNJXRW",
        "outputId": "c1e5bfc3-c9f5-4f1c-d97b-d1fd925df2c8"
      },
      "execution_count": 57,
      "outputs": [
        {
          "output_type": "execute_result",
          "data": {
            "text/plain": [
              "72611.17302015454"
            ]
          },
          "metadata": {},
          "execution_count": 57
        }
      ]
    }
  ]
}