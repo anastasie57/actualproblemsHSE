{
  "cells": [
    {
      "cell_type": "markdown",
      "id": "4ca384d0-da9b-41bc-a902-ee069922c0c2",
      "metadata": {
        "id": "4ca384d0-da9b-41bc-a902-ee069922c0c2"
      },
      "source": [
        "## Домашка (10 баллов)\n",
        "\n",
        "\n",
        "Обучите модель с минимум 15 слоями, где у каждого слоя разные параметры (Dropout, Conv1d и Pooling, Dense считаются слоями, остальное нет). Как мимнимум 4 слоя должны быть наложены друг на друга и как минимум 2 параллельных слоя (последовательности слоев). Должен быть хотя бы один слой каждого типа.\n",
        "\n",
        "При обучении используйте колбек для отслеживания лучшей модели. Ориентируйтесь на ф1 меру. Качество модели не должно быть околонулевым. Если метрики не растут, то попробуйте пообучать подольше или перестроить саму сеть.\n",
        "\n",
        "Советы: Начните с небольших сетей и постепенно добавляйте, не пытайтесь сразу собрать все слои. Иногда кернел может крашиться просто так или из-за слишком больших матриц.\n"
      ]
    },
    {
      "cell_type": "code",
      "execution_count": null,
      "id": "2dcb010f-90e2-4a23-bbdd-4b6df8a94c31",
      "metadata": {
        "id": "2dcb010f-90e2-4a23-bbdd-4b6df8a94c31"
      },
      "outputs": [],
      "source": [
        "%pip install --upgrade keras\n",
        "%pip install torch torchvision torchaudio\n",
        "%pip install tensorflow"
      ]
    },
    {
      "cell_type": "code",
      "execution_count": 2,
      "id": "241498e3",
      "metadata": {
        "id": "241498e3"
      },
      "outputs": [],
      "source": [
        "import os\n",
        "os.environ[\"KERAS_BACKEND\"] = \"torch\"\n",
        "\n",
        "import tensorflow\n",
        "import keras"
      ]
    },
    {
      "cell_type": "code",
      "execution_count": 3,
      "id": "b382b1ad",
      "metadata": {
        "id": "b382b1ad"
      },
      "outputs": [],
      "source": [
        "import pandas as pd\n",
        "import numpy as np\n",
        "from string import punctuation\n",
        "from sklearn.model_selection import train_test_split\n",
        "from collections import Counter\n",
        "import matplotlib.pyplot as plt\n",
        "%matplotlib inline"
      ]
    },
    {
      "cell_type": "code",
      "execution_count": 4,
      "id": "66205124",
      "metadata": {
        "colab": {
          "base_uri": "https://localhost:8080/",
          "height": 423
        },
        "id": "66205124",
        "outputId": "294d3583-e1d9-483c-8891-0249f8b4d773"
      },
      "outputs": [
        {
          "output_type": "execute_result",
          "data": {
            "text/plain": [
              "                                                    text              topic\n",
              "0      Россия должна сотрудничать с Всемирным антидоп...              Спорт\n",
              "1      Уголовный суд Кувейта 28 июня освободил под за...                Мир\n",
              "2      Французский журнал Charlie Hebdo опубликовал н...     Интернет и СМИ\n",
              "3      В Петербурге в доме № 53 по улице Лени Голиков...             Россия\n",
              "4      В московском аэропорту \"Домодедово\" задержан г...             Россия\n",
              "...                                                  ...                ...\n",
              "44351  Российский Минфин может пересмотреть минимальн...          Экономика\n",
              "44352  Сотрудники Службы безопасности Украины (СБУ) с...        Бывший СССР\n",
              "44353  Америке следует задуматься над поставками на У...  Силовые структуры\n",
              "44354  Опознаны тела 71 человека, погибшего в результ...                Мир\n",
              "44355  Украинский националист, лидер запрещенной в Ро...        Бывший СССР\n",
              "\n",
              "[44356 rows x 2 columns]"
            ],
            "text/html": [
              "\n",
              "  <div id=\"df-5f1fb229-8eeb-4966-aace-588dbf532465\" class=\"colab-df-container\">\n",
              "    <div>\n",
              "<style scoped>\n",
              "    .dataframe tbody tr th:only-of-type {\n",
              "        vertical-align: middle;\n",
              "    }\n",
              "\n",
              "    .dataframe tbody tr th {\n",
              "        vertical-align: top;\n",
              "    }\n",
              "\n",
              "    .dataframe thead th {\n",
              "        text-align: right;\n",
              "    }\n",
              "</style>\n",
              "<table border=\"1\" class=\"dataframe\">\n",
              "  <thead>\n",
              "    <tr style=\"text-align: right;\">\n",
              "      <th></th>\n",
              "      <th>text</th>\n",
              "      <th>topic</th>\n",
              "    </tr>\n",
              "  </thead>\n",
              "  <tbody>\n",
              "    <tr>\n",
              "      <th>0</th>\n",
              "      <td>Россия должна сотрудничать с Всемирным антидоп...</td>\n",
              "      <td>Спорт</td>\n",
              "    </tr>\n",
              "    <tr>\n",
              "      <th>1</th>\n",
              "      <td>Уголовный суд Кувейта 28 июня освободил под за...</td>\n",
              "      <td>Мир</td>\n",
              "    </tr>\n",
              "    <tr>\n",
              "      <th>2</th>\n",
              "      <td>Французский журнал Charlie Hebdo опубликовал н...</td>\n",
              "      <td>Интернет и СМИ</td>\n",
              "    </tr>\n",
              "    <tr>\n",
              "      <th>3</th>\n",
              "      <td>В Петербурге в доме № 53 по улице Лени Голиков...</td>\n",
              "      <td>Россия</td>\n",
              "    </tr>\n",
              "    <tr>\n",
              "      <th>4</th>\n",
              "      <td>В московском аэропорту \"Домодедово\" задержан г...</td>\n",
              "      <td>Россия</td>\n",
              "    </tr>\n",
              "    <tr>\n",
              "      <th>...</th>\n",
              "      <td>...</td>\n",
              "      <td>...</td>\n",
              "    </tr>\n",
              "    <tr>\n",
              "      <th>44351</th>\n",
              "      <td>Российский Минфин может пересмотреть минимальн...</td>\n",
              "      <td>Экономика</td>\n",
              "    </tr>\n",
              "    <tr>\n",
              "      <th>44352</th>\n",
              "      <td>Сотрудники Службы безопасности Украины (СБУ) с...</td>\n",
              "      <td>Бывший СССР</td>\n",
              "    </tr>\n",
              "    <tr>\n",
              "      <th>44353</th>\n",
              "      <td>Америке следует задуматься над поставками на У...</td>\n",
              "      <td>Силовые структуры</td>\n",
              "    </tr>\n",
              "    <tr>\n",
              "      <th>44354</th>\n",
              "      <td>Опознаны тела 71 человека, погибшего в результ...</td>\n",
              "      <td>Мир</td>\n",
              "    </tr>\n",
              "    <tr>\n",
              "      <th>44355</th>\n",
              "      <td>Украинский националист, лидер запрещенной в Ро...</td>\n",
              "      <td>Бывший СССР</td>\n",
              "    </tr>\n",
              "  </tbody>\n",
              "</table>\n",
              "<p>44356 rows × 2 columns</p>\n",
              "</div>\n",
              "    <div class=\"colab-df-buttons\">\n",
              "\n",
              "  <div class=\"colab-df-container\">\n",
              "    <button class=\"colab-df-convert\" onclick=\"convertToInteractive('df-5f1fb229-8eeb-4966-aace-588dbf532465')\"\n",
              "            title=\"Convert this dataframe to an interactive table.\"\n",
              "            style=\"display:none;\">\n",
              "\n",
              "  <svg xmlns=\"http://www.w3.org/2000/svg\" height=\"24px\" viewBox=\"0 -960 960 960\">\n",
              "    <path d=\"M120-120v-720h720v720H120Zm60-500h600v-160H180v160Zm220 220h160v-160H400v160Zm0 220h160v-160H400v160ZM180-400h160v-160H180v160Zm440 0h160v-160H620v160ZM180-180h160v-160H180v160Zm440 0h160v-160H620v160Z\"/>\n",
              "  </svg>\n",
              "    </button>\n",
              "\n",
              "  <style>\n",
              "    .colab-df-container {\n",
              "      display:flex;\n",
              "      gap: 12px;\n",
              "    }\n",
              "\n",
              "    .colab-df-convert {\n",
              "      background-color: #E8F0FE;\n",
              "      border: none;\n",
              "      border-radius: 50%;\n",
              "      cursor: pointer;\n",
              "      display: none;\n",
              "      fill: #1967D2;\n",
              "      height: 32px;\n",
              "      padding: 0 0 0 0;\n",
              "      width: 32px;\n",
              "    }\n",
              "\n",
              "    .colab-df-convert:hover {\n",
              "      background-color: #E2EBFA;\n",
              "      box-shadow: 0px 1px 2px rgba(60, 64, 67, 0.3), 0px 1px 3px 1px rgba(60, 64, 67, 0.15);\n",
              "      fill: #174EA6;\n",
              "    }\n",
              "\n",
              "    .colab-df-buttons div {\n",
              "      margin-bottom: 4px;\n",
              "    }\n",
              "\n",
              "    [theme=dark] .colab-df-convert {\n",
              "      background-color: #3B4455;\n",
              "      fill: #D2E3FC;\n",
              "    }\n",
              "\n",
              "    [theme=dark] .colab-df-convert:hover {\n",
              "      background-color: #434B5C;\n",
              "      box-shadow: 0px 1px 3px 1px rgba(0, 0, 0, 0.15);\n",
              "      filter: drop-shadow(0px 1px 2px rgba(0, 0, 0, 0.3));\n",
              "      fill: #FFFFFF;\n",
              "    }\n",
              "  </style>\n",
              "\n",
              "    <script>\n",
              "      const buttonEl =\n",
              "        document.querySelector('#df-5f1fb229-8eeb-4966-aace-588dbf532465 button.colab-df-convert');\n",
              "      buttonEl.style.display =\n",
              "        google.colab.kernel.accessAllowed ? 'block' : 'none';\n",
              "\n",
              "      async function convertToInteractive(key) {\n",
              "        const element = document.querySelector('#df-5f1fb229-8eeb-4966-aace-588dbf532465');\n",
              "        const dataTable =\n",
              "          await google.colab.kernel.invokeFunction('convertToInteractive',\n",
              "                                                    [key], {});\n",
              "        if (!dataTable) return;\n",
              "\n",
              "        const docLinkHtml = 'Like what you see? Visit the ' +\n",
              "          '<a target=\"_blank\" href=https://colab.research.google.com/notebooks/data_table.ipynb>data table notebook</a>'\n",
              "          + ' to learn more about interactive tables.';\n",
              "        element.innerHTML = '';\n",
              "        dataTable['output_type'] = 'display_data';\n",
              "        await google.colab.output.renderOutput(dataTable, element);\n",
              "        const docLink = document.createElement('div');\n",
              "        docLink.innerHTML = docLinkHtml;\n",
              "        element.appendChild(docLink);\n",
              "      }\n",
              "    </script>\n",
              "  </div>\n",
              "\n",
              "\n",
              "<div id=\"df-71734137-7494-47db-8ca6-6e0dcc3e8485\">\n",
              "  <button class=\"colab-df-quickchart\" onclick=\"quickchart('df-71734137-7494-47db-8ca6-6e0dcc3e8485')\"\n",
              "            title=\"Suggest charts\"\n",
              "            style=\"display:none;\">\n",
              "\n",
              "<svg xmlns=\"http://www.w3.org/2000/svg\" height=\"24px\"viewBox=\"0 0 24 24\"\n",
              "     width=\"24px\">\n",
              "    <g>\n",
              "        <path d=\"M19 3H5c-1.1 0-2 .9-2 2v14c0 1.1.9 2 2 2h14c1.1 0 2-.9 2-2V5c0-1.1-.9-2-2-2zM9 17H7v-7h2v7zm4 0h-2V7h2v10zm4 0h-2v-4h2v4z\"/>\n",
              "    </g>\n",
              "</svg>\n",
              "  </button>\n",
              "\n",
              "<style>\n",
              "  .colab-df-quickchart {\n",
              "      --bg-color: #E8F0FE;\n",
              "      --fill-color: #1967D2;\n",
              "      --hover-bg-color: #E2EBFA;\n",
              "      --hover-fill-color: #174EA6;\n",
              "      --disabled-fill-color: #AAA;\n",
              "      --disabled-bg-color: #DDD;\n",
              "  }\n",
              "\n",
              "  [theme=dark] .colab-df-quickchart {\n",
              "      --bg-color: #3B4455;\n",
              "      --fill-color: #D2E3FC;\n",
              "      --hover-bg-color: #434B5C;\n",
              "      --hover-fill-color: #FFFFFF;\n",
              "      --disabled-bg-color: #3B4455;\n",
              "      --disabled-fill-color: #666;\n",
              "  }\n",
              "\n",
              "  .colab-df-quickchart {\n",
              "    background-color: var(--bg-color);\n",
              "    border: none;\n",
              "    border-radius: 50%;\n",
              "    cursor: pointer;\n",
              "    display: none;\n",
              "    fill: var(--fill-color);\n",
              "    height: 32px;\n",
              "    padding: 0;\n",
              "    width: 32px;\n",
              "  }\n",
              "\n",
              "  .colab-df-quickchart:hover {\n",
              "    background-color: var(--hover-bg-color);\n",
              "    box-shadow: 0 1px 2px rgba(60, 64, 67, 0.3), 0 1px 3px 1px rgba(60, 64, 67, 0.15);\n",
              "    fill: var(--button-hover-fill-color);\n",
              "  }\n",
              "\n",
              "  .colab-df-quickchart-complete:disabled,\n",
              "  .colab-df-quickchart-complete:disabled:hover {\n",
              "    background-color: var(--disabled-bg-color);\n",
              "    fill: var(--disabled-fill-color);\n",
              "    box-shadow: none;\n",
              "  }\n",
              "\n",
              "  .colab-df-spinner {\n",
              "    border: 2px solid var(--fill-color);\n",
              "    border-color: transparent;\n",
              "    border-bottom-color: var(--fill-color);\n",
              "    animation:\n",
              "      spin 1s steps(1) infinite;\n",
              "  }\n",
              "\n",
              "  @keyframes spin {\n",
              "    0% {\n",
              "      border-color: transparent;\n",
              "      border-bottom-color: var(--fill-color);\n",
              "      border-left-color: var(--fill-color);\n",
              "    }\n",
              "    20% {\n",
              "      border-color: transparent;\n",
              "      border-left-color: var(--fill-color);\n",
              "      border-top-color: var(--fill-color);\n",
              "    }\n",
              "    30% {\n",
              "      border-color: transparent;\n",
              "      border-left-color: var(--fill-color);\n",
              "      border-top-color: var(--fill-color);\n",
              "      border-right-color: var(--fill-color);\n",
              "    }\n",
              "    40% {\n",
              "      border-color: transparent;\n",
              "      border-right-color: var(--fill-color);\n",
              "      border-top-color: var(--fill-color);\n",
              "    }\n",
              "    60% {\n",
              "      border-color: transparent;\n",
              "      border-right-color: var(--fill-color);\n",
              "    }\n",
              "    80% {\n",
              "      border-color: transparent;\n",
              "      border-right-color: var(--fill-color);\n",
              "      border-bottom-color: var(--fill-color);\n",
              "    }\n",
              "    90% {\n",
              "      border-color: transparent;\n",
              "      border-bottom-color: var(--fill-color);\n",
              "    }\n",
              "  }\n",
              "</style>\n",
              "\n",
              "  <script>\n",
              "    async function quickchart(key) {\n",
              "      const quickchartButtonEl =\n",
              "        document.querySelector('#' + key + ' button');\n",
              "      quickchartButtonEl.disabled = true;  // To prevent multiple clicks.\n",
              "      quickchartButtonEl.classList.add('colab-df-spinner');\n",
              "      try {\n",
              "        const charts = await google.colab.kernel.invokeFunction(\n",
              "            'suggestCharts', [key], {});\n",
              "      } catch (error) {\n",
              "        console.error('Error during call to suggestCharts:', error);\n",
              "      }\n",
              "      quickchartButtonEl.classList.remove('colab-df-spinner');\n",
              "      quickchartButtonEl.classList.add('colab-df-quickchart-complete');\n",
              "    }\n",
              "    (() => {\n",
              "      let quickchartButtonEl =\n",
              "        document.querySelector('#df-71734137-7494-47db-8ca6-6e0dcc3e8485 button');\n",
              "      quickchartButtonEl.style.display =\n",
              "        google.colab.kernel.accessAllowed ? 'block' : 'none';\n",
              "    })();\n",
              "  </script>\n",
              "</div>\n",
              "    </div>\n",
              "  </div>\n"
            ]
          },
          "metadata": {},
          "execution_count": 4
        }
      ],
      "source": [
        "data = pd.read_csv('lenta_40k.csv.zip')\n",
        "data"
      ]
    },
    {
      "cell_type": "code",
      "execution_count": 5,
      "id": "d59f994d",
      "metadata": {
        "id": "d59f994d"
      },
      "outputs": [],
      "source": [
        "def preprocess(text):\n",
        "    tokens = text.lower().split()\n",
        "    tokens = [token.strip(punctuation) for token in tokens]\n",
        "    return tokens"
      ]
    },
    {
      "cell_type": "code",
      "execution_count": 6,
      "id": "65b32534",
      "metadata": {
        "id": "65b32534"
      },
      "outputs": [],
      "source": [
        "vocab = Counter()\n",
        "\n",
        "for text in data.text:\n",
        "    vocab.update(preprocess(text))\n",
        "\n",
        "filtered_vocab = set()\n",
        "\n",
        "for word in vocab:\n",
        "    if vocab[word] > 30:\n",
        "        filtered_vocab.add(word)\n",
        "\n",
        "word2id = {'PAD':0}\n",
        "\n",
        "for word in filtered_vocab:\n",
        "    word2id[word] = len(word2id)\n",
        "\n",
        "id2word = {i:word for word, i in word2id.items()}"
      ]
    },
    {
      "cell_type": "code",
      "execution_count": 7,
      "id": "2e0f3b7a",
      "metadata": {
        "id": "2e0f3b7a"
      },
      "outputs": [],
      "source": [
        "X = []\n",
        "\n",
        "for text in data.text:\n",
        "    tokens = preprocess(text)\n",
        "    ids = [word2id.get(token, 1) for token in tokens]\n",
        "    X.append(ids)\n",
        "\n",
        "MAX_LEN = max(len(x) for x in X)\n",
        "MEAN_LEN = np.median([len(x) for x in X])\n",
        "MAX_LEN = int(MEAN_LEN + 30)"
      ]
    },
    {
      "cell_type": "code",
      "execution_count": 8,
      "id": "c3eb8e4c",
      "metadata": {
        "id": "c3eb8e4c"
      },
      "outputs": [],
      "source": [
        "X = keras.preprocessing.sequence.pad_sequences(X, maxlen=MAX_LEN)"
      ]
    },
    {
      "cell_type": "code",
      "execution_count": 9,
      "id": "a208a5e2",
      "metadata": {
        "id": "a208a5e2"
      },
      "outputs": [],
      "source": [
        "id2label = {i:label for i, label in enumerate(set(data.topic.values))}\n",
        "label2id = {l:i for i, l in id2label.items()}"
      ]
    },
    {
      "cell_type": "code",
      "execution_count": 10,
      "id": "e9a25834",
      "metadata": {
        "id": "e9a25834"
      },
      "outputs": [],
      "source": [
        "y = keras.utils.to_categorical([label2id[label] for label in data.topic.values])"
      ]
    },
    {
      "cell_type": "code",
      "execution_count": 11,
      "id": "a4679d25",
      "metadata": {
        "id": "a4679d25"
      },
      "outputs": [],
      "source": [
        "X_train, X_valid, y_train, y_valid = train_test_split(X, y, test_size=0.05)"
      ]
    },
    {
      "cell_type": "code",
      "source": [
        "inputs = keras.layers.Input(shape=(MAX_LEN,))\n",
        "embeddings = keras.layers.Embedding(input_dim=len(word2id), output_dim=30)(inputs, )\n",
        "mean = keras.layers.Flatten()(embeddings)\n",
        "dense = keras.layers.Dense(30, activation='relu')(mean)\n",
        "outputs = keras.layers.Dense(len(label2id), activation='softmax')(dense)\n",
        "\n",
        "model = keras.Model(inputs=inputs, outputs=outputs)\n",
        "optimizer = keras.optimizers.Adam(learning_rate=0.001)\n",
        "model.compile(optimizer=optimizer,\n",
        "              loss='categorical_crossentropy',\n",
        "              metrics=[keras.metrics.F1Score(name='f1score')])"
      ],
      "metadata": {
        "id": "hWSaJXAphS25"
      },
      "id": "hWSaJXAphS25",
      "execution_count": 12,
      "outputs": []
    },
    {
      "cell_type": "code",
      "source": [
        "model.fit(X_train, y_train,\n",
        "          validation_data=(X_valid, y_valid),\n",
        "          batch_size=2000,\n",
        "          epochs=25)"
      ],
      "metadata": {
        "colab": {
          "base_uri": "https://localhost:8080/"
        },
        "id": "30fc5hKXhWYS",
        "outputId": "2a1299dc-d1c6-495d-e137-95b7f1065157"
      },
      "id": "30fc5hKXhWYS",
      "execution_count": 13,
      "outputs": [
        {
          "output_type": "stream",
          "name": "stdout",
          "text": [
            "Epoch 1/25\n",
            "22/22 [==============================] - 6s 208ms/step - loss: 2.7386 - f1score: 0.0407 - val_loss: 2.4799 - val_f1score: 0.0187\n",
            "Epoch 2/25\n",
            "22/22 [==============================] - 4s 165ms/step - loss: 2.3219 - f1score: 0.0304 - val_loss: 2.1702 - val_f1score: 0.0431\n",
            "Epoch 3/25\n",
            "22/22 [==============================] - 3s 156ms/step - loss: 1.9802 - f1score: 0.0749 - val_loss: 1.8502 - val_f1score: 0.1188\n",
            "Epoch 4/25\n",
            "22/22 [==============================] - 4s 160ms/step - loss: 1.6171 - f1score: 0.1871 - val_loss: 1.4789 - val_f1score: 0.2136\n",
            "Epoch 5/25\n",
            "22/22 [==============================] - 4s 197ms/step - loss: 1.2573 - f1score: 0.2490 - val_loss: 1.2430 - val_f1score: 0.2519\n",
            "Epoch 6/25\n",
            "22/22 [==============================] - 3s 155ms/step - loss: 1.0171 - f1score: 0.3275 - val_loss: 1.0746 - val_f1score: 0.3354\n",
            "Epoch 7/25\n",
            "22/22 [==============================] - 3s 156ms/step - loss: 0.8239 - f1score: 0.4130 - val_loss: 0.9529 - val_f1score: 0.4025\n",
            "Epoch 8/25\n",
            "22/22 [==============================] - 5s 208ms/step - loss: 0.6720 - f1score: 0.4678 - val_loss: 0.8778 - val_f1score: 0.4195\n",
            "Epoch 9/25\n",
            "22/22 [==============================] - 3s 155ms/step - loss: 0.5482 - f1score: 0.5079 - val_loss: 0.8308 - val_f1score: 0.4468\n",
            "Epoch 10/25\n",
            "22/22 [==============================] - 3s 154ms/step - loss: 0.4474 - f1score: 0.5576 - val_loss: 0.7989 - val_f1score: 0.4585\n",
            "Epoch 11/25\n",
            "22/22 [==============================] - 4s 185ms/step - loss: 0.3590 - f1score: 0.6103 - val_loss: 0.7877 - val_f1score: 0.4887\n",
            "Epoch 12/25\n",
            "22/22 [==============================] - 4s 172ms/step - loss: 0.2853 - f1score: 0.6495 - val_loss: 0.7880 - val_f1score: 0.4869\n",
            "Epoch 13/25\n",
            "22/22 [==============================] - 3s 154ms/step - loss: 0.2257 - f1score: 0.6784 - val_loss: 0.7920 - val_f1score: 0.4980\n",
            "Epoch 14/25\n",
            "22/22 [==============================] - 3s 158ms/step - loss: 0.1764 - f1score: 0.6963 - val_loss: 0.8002 - val_f1score: 0.5048\n",
            "Epoch 15/25\n",
            "22/22 [==============================] - 5s 248ms/step - loss: 0.1368 - f1score: 0.7101 - val_loss: 0.8146 - val_f1score: 0.5165\n",
            "Epoch 16/25\n",
            "22/22 [==============================] - 6s 288ms/step - loss: 0.1069 - f1score: 0.7316 - val_loss: 0.8346 - val_f1score: 0.5153\n",
            "Epoch 17/25\n",
            "22/22 [==============================] - 8s 353ms/step - loss: 0.0836 - f1score: 0.7670 - val_loss: 0.8471 - val_f1score: 0.5129\n",
            "Epoch 18/25\n",
            "22/22 [==============================] - 6s 289ms/step - loss: 0.0669 - f1score: 0.8012 - val_loss: 0.8758 - val_f1score: 0.5127\n",
            "Epoch 19/25\n",
            "22/22 [==============================] - 7s 335ms/step - loss: 0.0537 - f1score: 0.8419 - val_loss: 0.8887 - val_f1score: 0.5151\n",
            "Epoch 20/25\n",
            "22/22 [==============================] - 4s 160ms/step - loss: 0.0436 - f1score: 0.8575 - val_loss: 0.9097 - val_f1score: 0.5157\n",
            "Epoch 21/25\n",
            "22/22 [==============================] - 5s 227ms/step - loss: 0.0364 - f1score: 0.8820 - val_loss: 0.9254 - val_f1score: 0.5164\n",
            "Epoch 22/25\n",
            "22/22 [==============================] - 4s 168ms/step - loss: 0.0305 - f1score: 0.8955 - val_loss: 0.9373 - val_f1score: 0.5176\n",
            "Epoch 23/25\n",
            "22/22 [==============================] - 4s 168ms/step - loss: 0.0260 - f1score: 0.9006 - val_loss: 0.9547 - val_f1score: 0.5147\n",
            "Epoch 24/25\n",
            "22/22 [==============================] - 5s 211ms/step - loss: 0.0227 - f1score: 0.9071 - val_loss: 0.9687 - val_f1score: 0.5144\n",
            "Epoch 25/25\n",
            "22/22 [==============================] - 4s 175ms/step - loss: 0.0201 - f1score: 0.9077 - val_loss: 0.9868 - val_f1score: 0.5143\n"
          ]
        },
        {
          "output_type": "execute_result",
          "data": {
            "text/plain": [
              "<keras.src.callbacks.History at 0x7cbaca9ebbb0>"
            ]
          },
          "metadata": {},
          "execution_count": 13
        }
      ]
    },
    {
      "cell_type": "markdown",
      "source": [
        "Модель, обученная на двух слоях Dense, и трёх неучитываемых."
      ],
      "metadata": {
        "id": "6VEUh5RhiiGi"
      },
      "id": "6VEUh5RhiiGi"
    },
    {
      "cell_type": "code",
      "source": [
        "model.summary()"
      ],
      "metadata": {
        "colab": {
          "base_uri": "https://localhost:8080/"
        },
        "id": "eas_r_4Nhywc",
        "outputId": "7b036707-5ae2-4e52-855a-5dfc3a122729"
      },
      "id": "eas_r_4Nhywc",
      "execution_count": 14,
      "outputs": [
        {
          "output_type": "stream",
          "name": "stdout",
          "text": [
            "Model: \"model\"\n",
            "_________________________________________________________________\n",
            " Layer (type)                Output Shape              Param #   \n",
            "=================================================================\n",
            " input_1 (InputLayer)        [(None, 200)]             0         \n",
            "                                                                 \n",
            " embedding (Embedding)       (None, 200, 30)           722760    \n",
            "                                                                 \n",
            " flatten (Flatten)           (None, 6000)              0         \n",
            "                                                                 \n",
            " dense (Dense)               (None, 30)                180030    \n",
            "                                                                 \n",
            " dense_1 (Dense)             (None, 19)                589       \n",
            "                                                                 \n",
            "=================================================================\n",
            "Total params: 903379 (3.45 MB)\n",
            "Trainable params: 903379 (3.45 MB)\n",
            "Non-trainable params: 0 (0.00 Byte)\n",
            "_________________________________________________________________\n"
          ]
        }
      ]
    },
    {
      "cell_type": "code",
      "source": [
        "inputs = keras.layers.Input(shape=(MAX_LEN,))\n",
        "embeddings = keras.layers.Embedding(input_dim=len(word2id), output_dim=30)(inputs, )\n",
        "conv1 = keras.layers.Conv1D(kernel_size=5, filters=32, strides=1)(embeddings)\n",
        "conv2 = keras.layers.Conv1D(kernel_size=5, filters=32, strides=1, activation='relu')(conv1)\n",
        "concat = keras.layers.Flatten()(conv2)\n",
        "dense = keras.layers.Dense(30, activation='relu')(concat)\n",
        "outputs = keras.layers.Dense(len(label2id), activation='softmax')(dense)\n",
        "\n",
        "model = keras.Model(inputs=inputs, outputs=outputs)\n",
        "optimizer = keras.optimizers.Adam(learning_rate=0.001)\n",
        "model.compile(optimizer=optimizer,\n",
        "              loss='categorical_crossentropy',\n",
        "              metrics=[keras.metrics.F1Score(name='f1score')])"
      ],
      "metadata": {
        "id": "DVHvyNg1iv65"
      },
      "id": "DVHvyNg1iv65",
      "execution_count": 15,
      "outputs": []
    },
    {
      "cell_type": "code",
      "source": [
        "model.fit(X_train, y_train,\n",
        "          validation_data=(X_valid, y_valid),\n",
        "          batch_size=2000,\n",
        "          epochs=25)"
      ],
      "metadata": {
        "colab": {
          "base_uri": "https://localhost:8080/"
        },
        "id": "6dnyp1AyjPX9",
        "outputId": "ac60270c-0602-40f6-b7a8-82c15ee9cb0d"
      },
      "id": "6dnyp1AyjPX9",
      "execution_count": 16,
      "outputs": [
        {
          "output_type": "stream",
          "name": "stdout",
          "text": [
            "Epoch 1/25\n",
            "22/22 [==============================] - 23s 1s/step - loss: 2.6063 - f1score: 0.0278 - val_loss: 2.4168 - val_f1score: 0.0183\n",
            "Epoch 2/25\n",
            "22/22 [==============================] - 24s 1s/step - loss: 2.2912 - f1score: 0.0317 - val_loss: 2.1222 - val_f1score: 0.0423\n",
            "Epoch 3/25\n",
            "22/22 [==============================] - 24s 1s/step - loss: 1.9061 - f1score: 0.1030 - val_loss: 1.6650 - val_f1score: 0.1396\n",
            "Epoch 4/25\n",
            "22/22 [==============================] - 23s 1s/step - loss: 1.4519 - f1score: 0.1980 - val_loss: 1.3261 - val_f1score: 0.2408\n",
            "Epoch 5/25\n",
            "22/22 [==============================] - 24s 1s/step - loss: 1.0732 - f1score: 0.2844 - val_loss: 1.1472 - val_f1score: 0.2981\n",
            "Epoch 6/25\n",
            "22/22 [==============================] - 23s 1s/step - loss: 0.8330 - f1score: 0.3503 - val_loss: 1.1227 - val_f1score: 0.3218\n",
            "Epoch 7/25\n",
            "22/22 [==============================] - 23s 1s/step - loss: 0.6725 - f1score: 0.4029 - val_loss: 1.1429 - val_f1score: 0.3576\n",
            "Epoch 8/25\n",
            "22/22 [==============================] - 23s 1s/step - loss: 0.5328 - f1score: 0.4718 - val_loss: 1.1932 - val_f1score: 0.3786\n",
            "Epoch 9/25\n",
            "22/22 [==============================] - 23s 1s/step - loss: 0.4178 - f1score: 0.5291 - val_loss: 1.2994 - val_f1score: 0.3956\n",
            "Epoch 10/25\n",
            "22/22 [==============================] - 22s 1000ms/step - loss: 0.3246 - f1score: 0.5743 - val_loss: 1.5208 - val_f1score: 0.3952\n",
            "Epoch 11/25\n",
            "22/22 [==============================] - 23s 1s/step - loss: 0.2522 - f1score: 0.6160 - val_loss: 1.6385 - val_f1score: 0.4050\n",
            "Epoch 12/25\n",
            "22/22 [==============================] - 24s 1s/step - loss: 0.1903 - f1score: 0.6573 - val_loss: 1.7909 - val_f1score: 0.4080\n",
            "Epoch 13/25\n",
            "22/22 [==============================] - 24s 1s/step - loss: 0.1399 - f1score: 0.6986 - val_loss: 2.0122 - val_f1score: 0.4121\n",
            "Epoch 14/25\n",
            "22/22 [==============================] - 24s 1s/step - loss: 0.1020 - f1score: 0.7274 - val_loss: 2.2079 - val_f1score: 0.4125\n",
            "Epoch 15/25\n",
            "22/22 [==============================] - 22s 1s/step - loss: 0.0768 - f1score: 0.7535 - val_loss: 2.3752 - val_f1score: 0.4275\n",
            "Epoch 16/25\n",
            "22/22 [==============================] - 24s 1s/step - loss: 0.0560 - f1score: 0.7786 - val_loss: 2.5544 - val_f1score: 0.4247\n",
            "Epoch 17/25\n",
            "22/22 [==============================] - 25s 1s/step - loss: 0.0415 - f1score: 0.8035 - val_loss: 2.7311 - val_f1score: 0.4232\n",
            "Epoch 18/25\n",
            "22/22 [==============================] - 25s 1s/step - loss: 0.0310 - f1score: 0.8183 - val_loss: 2.8850 - val_f1score: 0.4297\n",
            "Epoch 19/25\n",
            "22/22 [==============================] - 24s 1s/step - loss: 0.0249 - f1score: 0.8286 - val_loss: 3.0272 - val_f1score: 0.4289\n",
            "Epoch 20/25\n",
            "22/22 [==============================] - 25s 1s/step - loss: 0.0206 - f1score: 0.8586 - val_loss: 3.1702 - val_f1score: 0.4272\n",
            "Epoch 21/25\n",
            "22/22 [==============================] - 23s 1s/step - loss: 0.0171 - f1score: 0.8765 - val_loss: 3.3251 - val_f1score: 0.4213\n",
            "Epoch 22/25\n",
            "22/22 [==============================] - 23s 1s/step - loss: 0.0147 - f1score: 0.8843 - val_loss: 3.4062 - val_f1score: 0.4309\n",
            "Epoch 23/25\n",
            "22/22 [==============================] - 24s 1s/step - loss: 0.0128 - f1score: 0.8867 - val_loss: 3.5256 - val_f1score: 0.4274\n",
            "Epoch 24/25\n",
            "22/22 [==============================] - 24s 1s/step - loss: 0.0117 - f1score: 0.8889 - val_loss: 3.5834 - val_f1score: 0.4305\n",
            "Epoch 25/25\n",
            "22/22 [==============================] - 23s 1s/step - loss: 0.0112 - f1score: 0.8890 - val_loss: 3.6825 - val_f1score: 0.4251\n"
          ]
        },
        {
          "output_type": "execute_result",
          "data": {
            "text/plain": [
              "<keras.src.callbacks.History at 0x7cbaca896f20>"
            ]
          },
          "metadata": {},
          "execution_count": 16
        }
      ]
    },
    {
      "cell_type": "markdown",
      "source": [
        "Модель, обученнная на четырёх слоях, Dense и ConvID."
      ],
      "metadata": {
        "id": "bdU3vghikmnh"
      },
      "id": "bdU3vghikmnh"
    },
    {
      "cell_type": "code",
      "source": [
        "model.summary()"
      ],
      "metadata": {
        "colab": {
          "base_uri": "https://localhost:8080/"
        },
        "id": "4c7ARz09klnc",
        "outputId": "a59b9d7c-f96f-4bd3-f1ab-a77af457974b"
      },
      "id": "4c7ARz09klnc",
      "execution_count": 17,
      "outputs": [
        {
          "output_type": "stream",
          "name": "stdout",
          "text": [
            "Model: \"model_1\"\n",
            "_________________________________________________________________\n",
            " Layer (type)                Output Shape              Param #   \n",
            "=================================================================\n",
            " input_2 (InputLayer)        [(None, 200)]             0         \n",
            "                                                                 \n",
            " embedding_1 (Embedding)     (None, 200, 30)           722760    \n",
            "                                                                 \n",
            " conv1d (Conv1D)             (None, 196, 32)           4832      \n",
            "                                                                 \n",
            " conv1d_1 (Conv1D)           (None, 192, 32)           5152      \n",
            "                                                                 \n",
            " flatten_1 (Flatten)         (None, 6144)              0         \n",
            "                                                                 \n",
            " dense_2 (Dense)             (None, 30)                184350    \n",
            "                                                                 \n",
            " dense_3 (Dense)             (None, 19)                589       \n",
            "                                                                 \n",
            "=================================================================\n",
            "Total params: 917683 (3.50 MB)\n",
            "Trainable params: 917683 (3.50 MB)\n",
            "Non-trainable params: 0 (0.00 Byte)\n",
            "_________________________________________________________________\n"
          ]
        }
      ]
    },
    {
      "cell_type": "code",
      "source": [
        "inputs = keras.layers.Input(shape=(MAX_LEN,))\n",
        "embeddings = keras.layers.Embedding(input_dim=len(word2id), output_dim=30)(inputs, )\n",
        "drop1 = keras.layers.Dropout(0.1)(embeddings)\n",
        "\n",
        "conv1 = keras.layers.Conv1D(kernel_size=5, filters=32, strides=1)(embeddings)\n",
        "conv2 = keras.layers.Conv1D(kernel_size=5, filters=32, strides=1, activation='relu')(conv1)\n",
        "\n",
        "drop2 = keras.layers.Dropout(0.1)(conv2)\n",
        "\n",
        "concat = keras.layers.Flatten()(drop2)\n",
        "dense = keras.layers.Dense(30, activation='relu')(concat)\n",
        "outputs = keras.layers.Dense(len(label2id), activation='softmax')(dense)\n",
        "\n",
        "model = keras.Model(inputs=inputs, outputs=outputs)\n",
        "optimizer = keras.optimizers.Adam(learning_rate=0.001)\n",
        "model.compile(optimizer=optimizer,\n",
        "              loss='categorical_crossentropy',\n",
        "              metrics=[keras.metrics.F1Score(name='f1score')])"
      ],
      "metadata": {
        "id": "iJ9NJJNcluCR"
      },
      "id": "iJ9NJJNcluCR",
      "execution_count": 18,
      "outputs": []
    },
    {
      "cell_type": "code",
      "source": [
        "model.fit(X_train, y_train,\n",
        "          validation_data=(X_valid, y_valid),\n",
        "          batch_size=2000,\n",
        "          epochs=25)"
      ],
      "metadata": {
        "colab": {
          "base_uri": "https://localhost:8080/"
        },
        "id": "V_DNq5bFl1rT",
        "outputId": "63ab12ac-d424-4a89-d5bb-63485ffaeffb"
      },
      "id": "V_DNq5bFl1rT",
      "execution_count": 19,
      "outputs": [
        {
          "output_type": "stream",
          "name": "stdout",
          "text": [
            "Epoch 1/25\n",
            "22/22 [==============================] - 28s 1s/step - loss: 2.5896 - f1score: 0.0211 - val_loss: 2.4030 - val_f1score: 0.0182\n",
            "Epoch 2/25\n",
            "22/22 [==============================] - 26s 1s/step - loss: 2.2872 - f1score: 0.0234 - val_loss: 2.1236 - val_f1score: 0.0482\n",
            "Epoch 3/25\n",
            "22/22 [==============================] - 26s 1s/step - loss: 1.9261 - f1score: 0.0865 - val_loss: 1.7640 - val_f1score: 0.1109\n",
            "Epoch 4/25\n",
            "22/22 [==============================] - 26s 1s/step - loss: 1.5483 - f1score: 0.1549 - val_loss: 1.4276 - val_f1score: 0.2048\n",
            "Epoch 5/25\n",
            "22/22 [==============================] - 26s 1s/step - loss: 1.1511 - f1score: 0.2645 - val_loss: 1.2092 - val_f1score: 0.2713\n",
            "Epoch 6/25\n",
            "22/22 [==============================] - 26s 1s/step - loss: 0.9166 - f1score: 0.3308 - val_loss: 1.1839 - val_f1score: 0.3114\n",
            "Epoch 7/25\n",
            "22/22 [==============================] - 26s 1s/step - loss: 0.7546 - f1score: 0.3908 - val_loss: 1.2170 - val_f1score: 0.3180\n",
            "Epoch 8/25\n",
            "22/22 [==============================] - 26s 1s/step - loss: 0.6267 - f1score: 0.4326 - val_loss: 1.3172 - val_f1score: 0.3249\n",
            "Epoch 9/25\n",
            "22/22 [==============================] - 26s 1s/step - loss: 0.5216 - f1score: 0.4835 - val_loss: 1.4625 - val_f1score: 0.3446\n",
            "Epoch 10/25\n",
            "22/22 [==============================] - 26s 1s/step - loss: 0.4341 - f1score: 0.5359 - val_loss: 1.5599 - val_f1score: 0.3676\n",
            "Epoch 11/25\n",
            "22/22 [==============================] - 26s 1s/step - loss: 0.3550 - f1score: 0.5823 - val_loss: 1.7607 - val_f1score: 0.3820\n",
            "Epoch 12/25\n",
            "22/22 [==============================] - 26s 1s/step - loss: 0.2840 - f1score: 0.6217 - val_loss: 1.9427 - val_f1score: 0.3854\n",
            "Epoch 13/25\n",
            "22/22 [==============================] - 27s 1s/step - loss: 0.2294 - f1score: 0.6603 - val_loss: 2.1736 - val_f1score: 0.3878\n",
            "Epoch 14/25\n",
            "22/22 [==============================] - 26s 1s/step - loss: 0.1841 - f1score: 0.6887 - val_loss: 2.4148 - val_f1score: 0.3865\n",
            "Epoch 15/25\n",
            "22/22 [==============================] - 26s 1s/step - loss: 0.1463 - f1score: 0.7122 - val_loss: 2.6675 - val_f1score: 0.3849\n",
            "Epoch 16/25\n",
            "22/22 [==============================] - 26s 1s/step - loss: 0.1156 - f1score: 0.7449 - val_loss: 2.8917 - val_f1score: 0.3813\n",
            "Epoch 17/25\n",
            "22/22 [==============================] - 26s 1s/step - loss: 0.0934 - f1score: 0.7725 - val_loss: 3.1259 - val_f1score: 0.3779\n",
            "Epoch 18/25\n",
            "22/22 [==============================] - 26s 1s/step - loss: 0.0749 - f1score: 0.7898 - val_loss: 3.3718 - val_f1score: 0.3744\n",
            "Epoch 19/25\n",
            "22/22 [==============================] - 26s 1s/step - loss: 0.0586 - f1score: 0.7979 - val_loss: 3.5323 - val_f1score: 0.3855\n",
            "Epoch 20/25\n",
            "22/22 [==============================] - 26s 1s/step - loss: 0.0492 - f1score: 0.8119 - val_loss: 3.7759 - val_f1score: 0.3787\n",
            "Epoch 21/25\n",
            "22/22 [==============================] - 26s 1s/step - loss: 0.0395 - f1score: 0.8208 - val_loss: 3.9685 - val_f1score: 0.3809\n",
            "Epoch 22/25\n",
            "22/22 [==============================] - 26s 1s/step - loss: 0.0350 - f1score: 0.8268 - val_loss: 4.2109 - val_f1score: 0.3743\n",
            "Epoch 23/25\n",
            "22/22 [==============================] - 26s 1s/step - loss: 0.0277 - f1score: 0.8326 - val_loss: 4.3468 - val_f1score: 0.3682\n",
            "Epoch 24/25\n",
            "22/22 [==============================] - 26s 1s/step - loss: 0.0234 - f1score: 0.8346 - val_loss: 4.4315 - val_f1score: 0.3773\n",
            "Epoch 25/25\n",
            "22/22 [==============================] - 26s 1s/step - loss: 0.0199 - f1score: 0.8381 - val_loss: 4.6076 - val_f1score: 0.3774\n"
          ]
        },
        {
          "output_type": "execute_result",
          "data": {
            "text/plain": [
              "<keras.src.callbacks.History at 0x7cbac19c7bb0>"
            ]
          },
          "metadata": {},
          "execution_count": 19
        }
      ]
    },
    {
      "cell_type": "markdown",
      "source": [
        "Модель, обученная на пяти слоях. Дальше добавим бОльшее количество слоёв с помощью цикла."
      ],
      "metadata": {
        "id": "uDwi3dRjoOb2"
      },
      "id": "uDwi3dRjoOb2"
    },
    {
      "cell_type": "code",
      "source": [
        "model.summary()"
      ],
      "metadata": {
        "colab": {
          "base_uri": "https://localhost:8080/"
        },
        "id": "SoYm9SO0l3ex",
        "outputId": "0fdffcf5-da2f-4fe3-d0d7-1ae3a2a2965b"
      },
      "id": "SoYm9SO0l3ex",
      "execution_count": 20,
      "outputs": [
        {
          "output_type": "stream",
          "name": "stdout",
          "text": [
            "Model: \"model_2\"\n",
            "_________________________________________________________________\n",
            " Layer (type)                Output Shape              Param #   \n",
            "=================================================================\n",
            " input_3 (InputLayer)        [(None, 200)]             0         \n",
            "                                                                 \n",
            " embedding_2 (Embedding)     (None, 200, 30)           722760    \n",
            "                                                                 \n",
            " conv1d_2 (Conv1D)           (None, 196, 32)           4832      \n",
            "                                                                 \n",
            " conv1d_3 (Conv1D)           (None, 192, 32)           5152      \n",
            "                                                                 \n",
            " dropout_1 (Dropout)         (None, 192, 32)           0         \n",
            "                                                                 \n",
            " flatten_2 (Flatten)         (None, 6144)              0         \n",
            "                                                                 \n",
            " dense_4 (Dense)             (None, 30)                184350    \n",
            "                                                                 \n",
            " dense_5 (Dense)             (None, 19)                589       \n",
            "                                                                 \n",
            "=================================================================\n",
            "Total params: 917683 (3.50 MB)\n",
            "Trainable params: 917683 (3.50 MB)\n",
            "Non-trainable params: 0 (0.00 Byte)\n",
            "_________________________________________________________________\n"
          ]
        }
      ]
    },
    {
      "cell_type": "code",
      "source": [
        "inputs = keras.layers.Input(shape=(MAX_LEN,))\n",
        "embeddings = keras.layers.Embedding(input_dim=len(word2id), output_dim=30)(inputs, )\n",
        "drop1 = keras.layers.Dropout(0.1)(embeddings)\n",
        "\n",
        "convs = []\n",
        "\n",
        "for ks in [2,4,6,8,10]:\n",
        "    conv1 = keras.layers.Conv1D(kernel_size=ks, filters=32, padding='same',strides=1)(embeddings)\n",
        "    drop2 = keras.layers.Dropout(0.1)(conv1)\n",
        "    conv2 = keras.layers.Conv1D(kernel_size=ks, filters=32, padding='same',strides=1,\n",
        "                                  kernel_regularizer='l2', activation='relu')(drop2)\n",
        "    pool = keras.layers.AveragePooling1D(pool_size=5)(conv2)\n",
        "    conv3 = keras.layers.Conv1D(kernel_size=ks, filters=32, padding='same',strides=2,\n",
        "                                  kernel_regularizer='l2', activation='relu')(pool)\n",
        "    convs.append(conv3)\n",
        "\n",
        "\n",
        "concat = keras.layers.concatenate(convs, axis=2)\n",
        "\n",
        "conv_global = keras.layers.Conv1D(kernel_size=5, filters=32, strides=1)(concat)\n",
        "flatten = keras.layers.Flatten()(conv_global)\n",
        "dense = keras.layers.Dense(50, activation='relu')(flatten)\n",
        "outputs = keras.layers.Dense(len(label2id), activation='softmax')(dense)\n",
        "\n",
        "model = keras.Model(inputs=inputs, outputs=outputs)\n",
        "optimizer = keras.optimizers.Adam(learning_rate=0.001)\n",
        "model.compile(optimizer=optimizer,\n",
        "              loss='categorical_crossentropy',\n",
        "              metrics=[keras.metrics.F1Score(name='f1score')])"
      ],
      "metadata": {
        "id": "sWjQP7SMpcPB"
      },
      "id": "sWjQP7SMpcPB",
      "execution_count": 21,
      "outputs": []
    },
    {
      "cell_type": "code",
      "source": [
        "checkpoint = keras.callbacks.ModelCheckpoint('model.weights.keras_checkpoint', # названия файла\n",
        "                                                monitor='val_f1score', # за какой метрикой следить\n",
        "                                                verbose=1, # будет печатать что происходит\n",
        "                                                save_weights_only=True, # если нужно только веса сохранить\n",
        "                                                save_best_only=True, # сохранять только лучшие\n",
        "                                                mode='max', # если метрика должна расти, то тут max и min если наоборот\n",
        "                                                save_freq='epoch' # как часто вызывать\n",
        "                                               )\n",
        "\n",
        "early_stop = keras.callbacks.EarlyStopping(monitor='val_f1score',\n",
        "                                              min_delta=0.01, # какая разница считается как улучшение\n",
        "                                              patience=3, # сколько эпох терпеть отсутствие улучшений\n",
        "                                              verbose=1,\n",
        "                                              mode='max',\n",
        "                                              )"
      ],
      "metadata": {
        "id": "0c8qmGbL0r6C"
      },
      "id": "0c8qmGbL0r6C",
      "execution_count": 32,
      "outputs": []
    },
    {
      "cell_type": "code",
      "source": [
        "model.fit(X_train, y_train,\n",
        "          validation_data=(X_valid, y_valid),\n",
        "          batch_size=2000,\n",
        "          epochs=25)\n",
        "          #callbacks=[checkpoint, early_stop])"
      ],
      "metadata": {
        "colab": {
          "base_uri": "https://localhost:8080/"
        },
        "id": "OK1tJevktryH",
        "outputId": "e9418fa7-228e-4d1d-db02-238b21393917"
      },
      "id": "OK1tJevktryH",
      "execution_count": 34,
      "outputs": [
        {
          "output_type": "stream",
          "name": "stdout",
          "text": [
            "Epoch 1/25\n",
            "22/22 [==============================] - 139s 6s/step - loss: 0.6508 - f1score: 0.4826 - val_loss: 1.9340 - val_f1score: 0.3014\n",
            "Epoch 2/25\n",
            "22/22 [==============================] - 138s 6s/step - loss: 0.6339 - f1score: 0.4910 - val_loss: 1.8809 - val_f1score: 0.3179\n",
            "Epoch 3/25\n",
            "22/22 [==============================] - 136s 6s/step - loss: 0.5684 - f1score: 0.5175 - val_loss: 2.0398 - val_f1score: 0.3169\n",
            "Epoch 4/25\n",
            "22/22 [==============================] - 140s 6s/step - loss: 0.5140 - f1score: 0.5368 - val_loss: 2.1640 - val_f1score: 0.3241\n",
            "Epoch 5/25\n",
            "22/22 [==============================] - 143s 6s/step - loss: 0.4704 - f1score: 0.5566 - val_loss: 2.3535 - val_f1score: 0.3096\n",
            "Epoch 6/25\n",
            "22/22 [==============================] - 138s 6s/step - loss: 0.4391 - f1score: 0.5724 - val_loss: 2.4375 - val_f1score: 0.3215\n",
            "Epoch 7/25\n",
            "22/22 [==============================] - 137s 6s/step - loss: 0.4053 - f1score: 0.5831 - val_loss: 2.4987 - val_f1score: 0.3387\n",
            "Epoch 8/25\n",
            "22/22 [==============================] - 137s 6s/step - loss: 0.3480 - f1score: 0.6138 - val_loss: 2.7185 - val_f1score: 0.3316\n",
            "Epoch 9/25\n",
            "22/22 [==============================] - 141s 6s/step - loss: 0.3073 - f1score: 0.6388 - val_loss: 2.9133 - val_f1score: 0.3296\n",
            "Epoch 10/25\n",
            "22/22 [==============================] - 133s 6s/step - loss: 0.2816 - f1score: 0.6503 - val_loss: 3.0211 - val_f1score: 0.3302\n",
            "Epoch 11/25\n",
            "22/22 [==============================] - 136s 6s/step - loss: 0.2631 - f1score: 0.6651 - val_loss: 3.1656 - val_f1score: 0.3332\n",
            "Epoch 12/25\n",
            "22/22 [==============================] - 136s 6s/step - loss: 0.2401 - f1score: 0.6850 - val_loss: 3.4199 - val_f1score: 0.3347\n",
            "Epoch 13/25\n",
            "22/22 [==============================] - 135s 6s/step - loss: 0.2134 - f1score: 0.7317 - val_loss: 3.5700 - val_f1score: 0.3338\n",
            "Epoch 14/25\n",
            "22/22 [==============================] - 136s 6s/step - loss: 0.2006 - f1score: 0.7255 - val_loss: 3.6510 - val_f1score: 0.3338\n",
            "Epoch 15/25\n",
            "22/22 [==============================] - 134s 6s/step - loss: 0.1707 - f1score: 0.7916 - val_loss: 3.8531 - val_f1score: 0.3327\n",
            "Epoch 16/25\n",
            "22/22 [==============================] - 135s 6s/step - loss: 0.1529 - f1score: 0.8083 - val_loss: 4.0750 - val_f1score: 0.3381\n",
            "Epoch 17/25\n",
            "22/22 [==============================] - 133s 6s/step - loss: 0.1367 - f1score: 0.7977 - val_loss: 4.2138 - val_f1score: 0.3332\n",
            "Epoch 18/25\n",
            "22/22 [==============================] - 138s 6s/step - loss: 0.1372 - f1score: 0.8055 - val_loss: 4.3916 - val_f1score: 0.3407\n",
            "Epoch 19/25\n",
            "22/22 [==============================] - 136s 6s/step - loss: 0.2389 - f1score: 0.7779 - val_loss: 4.2029 - val_f1score: 0.3466\n",
            "Epoch 20/25\n",
            "22/22 [==============================] - 133s 6s/step - loss: 0.2072 - f1score: 0.7637 - val_loss: 3.9207 - val_f1score: 0.3381\n",
            "Epoch 21/25\n",
            "22/22 [==============================] - 133s 6s/step - loss: 0.1575 - f1score: 0.7790 - val_loss: 4.0756 - val_f1score: 0.3343\n",
            "Epoch 22/25\n",
            "22/22 [==============================] - 133s 6s/step - loss: 0.1341 - f1score: 0.8131 - val_loss: 4.1189 - val_f1score: 0.3424\n",
            "Epoch 23/25\n",
            "22/22 [==============================] - 133s 6s/step - loss: 0.1090 - f1score: 0.8466 - val_loss: 4.3044 - val_f1score: 0.3443\n",
            "Epoch 24/25\n",
            "22/22 [==============================] - 136s 6s/step - loss: 0.0911 - f1score: 0.8871 - val_loss: 4.4218 - val_f1score: 0.3482\n",
            "Epoch 25/25\n",
            "22/22 [==============================] - 136s 6s/step - loss: 0.0819 - f1score: 0.8997 - val_loss: 4.5358 - val_f1score: 0.3465\n"
          ]
        },
        {
          "output_type": "execute_result",
          "data": {
            "text/plain": [
              "<keras.src.callbacks.History at 0x7cbaaf346d70>"
            ]
          },
          "metadata": {},
          "execution_count": 34
        }
      ]
    },
    {
      "cell_type": "code",
      "source": [
        "model.summary()"
      ],
      "metadata": {
        "colab": {
          "base_uri": "https://localhost:8080/"
        },
        "id": "AFmcjZPiuAEh",
        "outputId": "2d6567b6-bf27-4367-87cb-76d961bb260d"
      },
      "id": "AFmcjZPiuAEh",
      "execution_count": 35,
      "outputs": [
        {
          "output_type": "stream",
          "name": "stdout",
          "text": [
            "Model: \"model_3\"\n",
            "__________________________________________________________________________________________________\n",
            " Layer (type)                Output Shape                 Param #   Connected to                  \n",
            "==================================================================================================\n",
            " input_4 (InputLayer)        [(None, 200)]                0         []                            \n",
            "                                                                                                  \n",
            " embedding_3 (Embedding)     (None, 200, 30)              722760    ['input_4[0][0]']             \n",
            "                                                                                                  \n",
            " conv1d_4 (Conv1D)           (None, 200, 32)              2912      ['embedding_3[0][0]']         \n",
            "                                                                                                  \n",
            " conv1d_7 (Conv1D)           (None, 200, 32)              3872      ['embedding_3[0][0]']         \n",
            "                                                                                                  \n",
            " conv1d_10 (Conv1D)          (None, 200, 32)              4832      ['embedding_3[0][0]']         \n",
            "                                                                                                  \n",
            " conv1d_13 (Conv1D)          (None, 200, 32)              6752      ['embedding_3[0][0]']         \n",
            "                                                                                                  \n",
            " conv1d_16 (Conv1D)          (None, 200, 32)              9632      ['embedding_3[0][0]']         \n",
            "                                                                                                  \n",
            " dropout_3 (Dropout)         (None, 200, 32)              0         ['conv1d_4[0][0]']            \n",
            "                                                                                                  \n",
            " dropout_4 (Dropout)         (None, 200, 32)              0         ['conv1d_7[0][0]']            \n",
            "                                                                                                  \n",
            " dropout_5 (Dropout)         (None, 200, 32)              0         ['conv1d_10[0][0]']           \n",
            "                                                                                                  \n",
            " dropout_6 (Dropout)         (None, 200, 32)              0         ['conv1d_13[0][0]']           \n",
            "                                                                                                  \n",
            " dropout_7 (Dropout)         (None, 200, 32)              0         ['conv1d_16[0][0]']           \n",
            "                                                                                                  \n",
            " conv1d_5 (Conv1D)           (None, 200, 32)              3104      ['dropout_3[0][0]']           \n",
            "                                                                                                  \n",
            " conv1d_8 (Conv1D)           (None, 200, 32)              4128      ['dropout_4[0][0]']           \n",
            "                                                                                                  \n",
            " conv1d_11 (Conv1D)          (None, 200, 32)              5152      ['dropout_5[0][0]']           \n",
            "                                                                                                  \n",
            " conv1d_14 (Conv1D)          (None, 200, 32)              7200      ['dropout_6[0][0]']           \n",
            "                                                                                                  \n",
            " conv1d_17 (Conv1D)          (None, 200, 32)              10272     ['dropout_7[0][0]']           \n",
            "                                                                                                  \n",
            " average_pooling1d (Average  (None, 40, 32)               0         ['conv1d_5[0][0]']            \n",
            " Pooling1D)                                                                                       \n",
            "                                                                                                  \n",
            " average_pooling1d_1 (Avera  (None, 40, 32)               0         ['conv1d_8[0][0]']            \n",
            " gePooling1D)                                                                                     \n",
            "                                                                                                  \n",
            " average_pooling1d_2 (Avera  (None, 40, 32)               0         ['conv1d_11[0][0]']           \n",
            " gePooling1D)                                                                                     \n",
            "                                                                                                  \n",
            " average_pooling1d_3 (Avera  (None, 40, 32)               0         ['conv1d_14[0][0]']           \n",
            " gePooling1D)                                                                                     \n",
            "                                                                                                  \n",
            " average_pooling1d_4 (Avera  (None, 40, 32)               0         ['conv1d_17[0][0]']           \n",
            " gePooling1D)                                                                                     \n",
            "                                                                                                  \n",
            " conv1d_6 (Conv1D)           (None, 20, 32)               3104      ['average_pooling1d[0][0]']   \n",
            "                                                                                                  \n",
            " conv1d_9 (Conv1D)           (None, 20, 32)               4128      ['average_pooling1d_1[0][0]'] \n",
            "                                                                                                  \n",
            " conv1d_12 (Conv1D)          (None, 20, 32)               5152      ['average_pooling1d_2[0][0]'] \n",
            "                                                                                                  \n",
            " conv1d_15 (Conv1D)          (None, 20, 32)               7200      ['average_pooling1d_3[0][0]'] \n",
            "                                                                                                  \n",
            " conv1d_18 (Conv1D)          (None, 20, 32)               10272     ['average_pooling1d_4[0][0]'] \n",
            "                                                                                                  \n",
            " concatenate (Concatenate)   (None, 20, 160)              0         ['conv1d_6[0][0]',            \n",
            "                                                                     'conv1d_9[0][0]',            \n",
            "                                                                     'conv1d_12[0][0]',           \n",
            "                                                                     'conv1d_15[0][0]',           \n",
            "                                                                     'conv1d_18[0][0]']           \n",
            "                                                                                                  \n",
            " conv1d_19 (Conv1D)          (None, 16, 32)               25632     ['concatenate[0][0]']         \n",
            "                                                                                                  \n",
            " flatten_3 (Flatten)         (None, 512)                  0         ['conv1d_19[0][0]']           \n",
            "                                                                                                  \n",
            " dense_6 (Dense)             (None, 50)                   25650     ['flatten_3[0][0]']           \n",
            "                                                                                                  \n",
            " dense_7 (Dense)             (None, 19)                   969       ['dense_6[0][0]']             \n",
            "                                                                                                  \n",
            "==================================================================================================\n",
            "Total params: 862723 (3.29 MB)\n",
            "Trainable params: 862723 (3.29 MB)\n",
            "Non-trainable params: 0 (0.00 Byte)\n",
            "__________________________________________________________________________________________________\n"
          ]
        }
      ]
    }
  ],
  "metadata": {
    "kernelspec": {
      "display_name": "Python 3 (ipykernel)",
      "language": "python",
      "name": "python3"
    },
    "language_info": {
      "codemirror_mode": {
        "name": "ipython",
        "version": 3
      },
      "file_extension": ".py",
      "mimetype": "text/x-python",
      "name": "python",
      "nbconvert_exporter": "python",
      "pygments_lexer": "ipython3",
      "version": "3.7.0"
    },
    "colab": {
      "provenance": []
    }
  },
  "nbformat": 4,
  "nbformat_minor": 5
}