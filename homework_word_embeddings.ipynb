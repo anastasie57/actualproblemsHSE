{
  "cells": [
    {
      "cell_type": "markdown",
      "metadata": {
        "id": "a98604cb"
      },
      "source": [
        "Домашку будет легче делать в колабе (убедитесь, что у вас runtype с gpu)."
      ],
      "id": "a98604cb"
    },
    {
      "cell_type": "code",
      "execution_count": 1,
      "metadata": {
        "id": "JRqI_0rPKH6T"
      },
      "outputs": [],
      "source": [
        "import tensorflow as tf\n",
        "import numpy as np\n",
        "import pandas as pd\n",
        "from string import punctuation\n",
        "from sklearn.model_selection import train_test_split\n",
        "from collections import Counter\n",
        "import matplotlib.pyplot as plt\n",
        "from sklearn.decomposition import TruncatedSVD\n",
        "from sklearn.feature_extraction.text import CountVectorizer\n",
        "from sklearn.metrics.pairwise import cosine_distances\n",
        "import re\n",
        "\n",
        "from IPython.display import Image\n",
        "from IPython.core.display import HTML\n",
        "%matplotlib inline"
      ],
      "id": "JRqI_0rPKH6T"
    },
    {
      "cell_type": "markdown",
      "metadata": {
        "id": "9c422aa0"
      },
      "source": [
        "# Задание 1 (3 балла)"
      ],
      "id": "9c422aa0"
    },
    {
      "cell_type": "markdown",
      "metadata": {
        "id": "e4a72790"
      },
      "source": [
        "Обучите word2vec модели с негативным семплированием (cbow и skip-gram) с помощью tensorflow аналогично тому, как это было сделано в семинаре. Вам нужно изменить следующие пункты:\n",
        "1) добавьте лемматизацию в предобработку (любым способом)  \n",
        "2) измените размер окна в большую или меньшую сторону\n",
        "3) измените размерность итоговых векторов\n",
        "\n",
        "Выберете несколько не похожих по смыслу слов (не таких как в семинаре), и протестируйте полученные эмбединги (найдите ближайшие слова и оцените качество, как в семинаре).\n",
        "Постарайтесь обучать модели как можно дольше и на как можно большем количестве данных. (Но если у вас мало времени или ресурсов, то допустимо взять поменьше данных и поставить меньше эпох)"
      ],
      "id": "e4a72790"
    },
    {
      "cell_type": "code",
      "execution_count": 2,
      "metadata": {
        "id": "y3eB7v1oMk9m"
      },
      "outputs": [],
      "source": [
        "from pymystem3 import Mystem\n",
        "import os, json\n",
        "mystem = Mystem()"
      ],
      "id": "y3eB7v1oMk9m"
    },
    {
      "cell_type": "code",
      "execution_count": 3,
      "metadata": {
        "id": "cde5fd96"
      },
      "outputs": [],
      "source": [
        "def preprocess(text):\n",
        "    tokens = re.sub('#+', ' ', text.lower()).split()\n",
        "    tokens = [token.strip(punctuation) for token in tokens]\n",
        "    tokens = [token for token in tokens if token]\n",
        "    tokens = [mystem.lemmatize(token)[0] for token in tokens if token and mystem.lemmatize(token)[0] != '—\\n']\n",
        "    return tokens"
      ],
      "id": "cde5fd96"
    },
    {
      "cell_type": "code",
      "execution_count": 4,
      "metadata": {
        "id": "4f71d7cb"
      },
      "outputs": [],
      "source": [
        "wiki = open('wiki_data.txt').read().split('\\n')\n",
        "vocab = Counter()\n",
        "\n",
        "for text in wiki:\n",
        "  vocab.update(preprocess(text))\n",
        "\n",
        "filtered_vocab = set()\n",
        "\n",
        "for word in vocab:\n",
        "    if vocab[word] > 30:\n",
        "        filtered_vocab.add(word)\n",
        "\n",
        "word2id = {'PAD':0}\n",
        "\n",
        "for word in filtered_vocab:\n",
        "    word2id[word] = len(word2id)\n",
        "\n",
        "id2word = {i:word for word, i in word2id.items()}"
      ],
      "id": "4f71d7cb"
    },
    {
      "cell_type": "code",
      "source": [
        "sentences = []\n",
        "\n",
        "for text in wiki:\n",
        "    tokens = preprocess(text)\n",
        "    if not tokens:\n",
        "        continue\n",
        "    ids = [word2id[token] for token in tokens if token in word2id]\n",
        "    sentences.append(ids)"
      ],
      "metadata": {
        "id": "4eUrpFDDO-Vg"
      },
      "id": "4eUrpFDDO-Vg",
      "execution_count": 5,
      "outputs": []
    },
    {
      "cell_type": "markdown",
      "source": [
        "Skip Gram"
      ],
      "metadata": {
        "id": "Eqz_VBHpS1Id"
      },
      "id": "Eqz_VBHpS1Id"
    },
    {
      "cell_type": "code",
      "source": [
        "X = []\n",
        "y = []\n",
        "\n",
        "window = 10\n",
        "for sent in sentences[:1000]:\n",
        "    for i in range(len(sent)-1):\n",
        "        word = sent[i] # target\n",
        "        context = sent[max(0, i-window):i] + sent[i+1:i+window]  # context (слова до и после целевого)\n",
        "\n",
        "        for context_word in context:\n",
        "            X.append(word)\n",
        "            y.append(context_word)"
      ],
      "metadata": {
        "id": "zNmOmE9iPpfW"
      },
      "id": "zNmOmE9iPpfW",
      "execution_count": 6,
      "outputs": []
    },
    {
      "cell_type": "code",
      "source": [
        "X[1], y[1]"
      ],
      "metadata": {
        "colab": {
          "base_uri": "https://localhost:8080/"
        },
        "id": "BDAvP6--Pt2t",
        "outputId": "0718e5c9-c996-4d2d-bc45-ba72e7e7d6c1"
      },
      "id": "BDAvP6--Pt2t",
      "execution_count": 7,
      "outputs": [
        {
          "output_type": "execute_result",
          "data": {
            "text/plain": [
              "(4857, 4491)"
            ]
          },
          "metadata": {},
          "execution_count": 7
        }
      ]
    },
    {
      "cell_type": "code",
      "source": [
        "len(X), len(y)"
      ],
      "metadata": {
        "colab": {
          "base_uri": "https://localhost:8080/"
        },
        "id": "WEbfNlz_PwYB",
        "outputId": "f6018378-acee-4f4c-a5ec-0ee2a51c4e4e"
      },
      "id": "WEbfNlz_PwYB",
      "execution_count": 8,
      "outputs": [
        {
          "output_type": "execute_result",
          "data": {
            "text/plain": [
              "(4302517, 4302517)"
            ]
          },
          "metadata": {},
          "execution_count": 8
        }
      ]
    },
    {
      "cell_type": "code",
      "source": [
        "X_train, X_valid, y_train, y_valid = train_test_split(X, y, test_size=0.05)"
      ],
      "metadata": {
        "id": "g3H1xUeRPzE4"
      },
      "id": "g3H1xUeRPzE4",
      "execution_count": 9,
      "outputs": []
    },
    {
      "cell_type": "code",
      "source": [
        "model = tf.keras.Sequential()\n",
        "\n",
        "model.add(tf.keras.layers.Embedding(input_dim=len(word2id),\n",
        "                                    input_length=1,\n",
        "                                    output_dim=150))\n",
        "\n",
        "model.add(tf.keras.layers.Flatten())\n",
        "\n",
        "model.add(tf.keras.layers.Dense(len(word2id),\n",
        "                                activation='softmax'))\n",
        "\n",
        "model.compile(optimizer=tf.keras.optimizers.Adam(),\n",
        "              loss='sparse_categorical_crossentropy')"
      ],
      "metadata": {
        "id": "z-VfgsPnP9q0"
      },
      "id": "z-VfgsPnP9q0",
      "execution_count": 10,
      "outputs": []
    },
    {
      "cell_type": "code",
      "source": [
        "print(model.summary())"
      ],
      "metadata": {
        "colab": {
          "base_uri": "https://localhost:8080/"
        },
        "id": "oRi-s4sYQghn",
        "outputId": "535af4a5-31dc-4e6a-c714-56fba8423e73"
      },
      "id": "oRi-s4sYQghn",
      "execution_count": 11,
      "outputs": [
        {
          "output_type": "stream",
          "name": "stdout",
          "text": [
            "Model: \"sequential\"\n",
            "_________________________________________________________________\n",
            " Layer (type)                Output Shape              Param #   \n",
            "=================================================================\n",
            " embedding (Embedding)       (None, 1, 150)            1836900   \n",
            "                                                                 \n",
            " flatten (Flatten)           (None, 150)               0         \n",
            "                                                                 \n",
            " dense (Dense)               (None, 12246)             1849146   \n",
            "                                                                 \n",
            "=================================================================\n",
            "Total params: 3686046 (14.06 MB)\n",
            "Trainable params: 3686046 (14.06 MB)\n",
            "Non-trainable params: 0 (0.00 Byte)\n",
            "_________________________________________________________________\n",
            "None\n"
          ]
        }
      ]
    },
    {
      "cell_type": "markdown",
      "source": [
        "Обучаем модель."
      ],
      "metadata": {
        "id": "3_0smG4WSGPt"
      },
      "id": "3_0smG4WSGPt"
    },
    {
      "cell_type": "code",
      "source": [
        "model.fit(X_train, y_train,\n",
        "          validation_data=(X_valid, y_valid),\n",
        "          batch_size=1000,\n",
        "          epochs=5)"
      ],
      "metadata": {
        "colab": {
          "base_uri": "https://localhost:8080/"
        },
        "id": "4jOslpKPR8dZ",
        "outputId": "0ccd5566-dbac-4d3f-ba3b-b27bc4d12933"
      },
      "id": "4jOslpKPR8dZ",
      "execution_count": 12,
      "outputs": [
        {
          "output_type": "stream",
          "name": "stdout",
          "text": [
            "Epoch 1/5\n",
            "4088/4088 [==============================] - 57s 13ms/step - loss: 7.3259 - val_loss: 7.1226\n",
            "Epoch 2/5\n",
            "4088/4088 [==============================] - 41s 10ms/step - loss: 7.0135 - val_loss: 6.9688\n",
            "Epoch 3/5\n",
            "4088/4088 [==============================] - 40s 10ms/step - loss: 6.8659 - val_loss: 6.8921\n",
            "Epoch 4/5\n",
            "4088/4088 [==============================] - 40s 10ms/step - loss: 6.7643 - val_loss: 6.8601\n",
            "Epoch 5/5\n",
            "4088/4088 [==============================] - 41s 10ms/step - loss: 6.6909 - val_loss: 6.8543\n"
          ]
        },
        {
          "output_type": "execute_result",
          "data": {
            "text/plain": [
              "<keras.src.callbacks.History at 0x796688d08970>"
            ]
          },
          "metadata": {},
          "execution_count": 12
        }
      ]
    },
    {
      "cell_type": "code",
      "source": [
        "print(model.history.history.keys())\n",
        "plt.plot(model.history.history['loss'])\n",
        "plt.plot(model.history.history['val_loss'])\n",
        "plt.title('model loss')\n",
        "plt.ylabel('loss')\n",
        "plt.xlabel('epoch')\n",
        "plt.legend(['train', 'val'], loc='upper left')\n",
        "plt.show()"
      ],
      "metadata": {
        "colab": {
          "base_uri": "https://localhost:8080/",
          "height": 489
        },
        "id": "ZiZRNDi6SE7r",
        "outputId": "894389d9-2faa-445a-fc04-0fb48dac750d"
      },
      "id": "ZiZRNDi6SE7r",
      "execution_count": 13,
      "outputs": [
        {
          "output_type": "stream",
          "name": "stdout",
          "text": [
            "dict_keys(['loss', 'val_loss'])\n"
          ]
        },
        {
          "output_type": "display_data",
          "data": {
            "text/plain": [
              "<Figure size 640x480 with 1 Axes>"
            ],
            "image/png": "[encoded data removed]"
          },
          "metadata": {}
        }
      ]
    },
    {
      "cell_type": "code",
      "source": [
        "model.layers"
      ],
      "metadata": {
        "colab": {
          "base_uri": "https://localhost:8080/"
        },
        "id": "AxVQmie3S81S",
        "outputId": "902aa265-c40a-41cc-8bee-a28f94b2e68d"
      },
      "id": "AxVQmie3S81S",
      "execution_count": 14,
      "outputs": [
        {
          "output_type": "execute_result",
          "data": {
            "text/plain": [
              "[<keras.src.layers.core.embedding.Embedding at 0x79668a47a230>,\n",
              " <keras.src.layers.reshaping.flatten.Flatten at 0x79668a47ae90>,\n",
              " <keras.src.layers.core.dense.Dense at 0x79668a47bb80>]"
            ]
          },
          "metadata": {},
          "execution_count": 14
        }
      ]
    },
    {
      "cell_type": "code",
      "source": [
        "model.layers[0].get_weights()[0].shape"
      ],
      "metadata": {
        "colab": {
          "base_uri": "https://localhost:8080/"
        },
        "id": "b6LVAALWTCmz",
        "outputId": "b42b82ae-7577-42ef-ca52-1145e6d71ca9"
      },
      "id": "b6LVAALWTCmz",
      "execution_count": 15,
      "outputs": [
        {
          "output_type": "execute_result",
          "data": {
            "text/plain": [
              "(12246, 150)"
            ]
          },
          "metadata": {},
          "execution_count": 15
        }
      ]
    },
    {
      "cell_type": "code",
      "source": [
        "model.layers[2].get_weights()[0].shape"
      ],
      "metadata": {
        "colab": {
          "base_uri": "https://localhost:8080/"
        },
        "id": "RSnh27tgTFv1",
        "outputId": "4574e0b6-62b0-4fa7-cbc9-eae86a4bf6d3"
      },
      "id": "RSnh27tgTFv1",
      "execution_count": 16,
      "outputs": [
        {
          "output_type": "execute_result",
          "data": {
            "text/plain": [
              "(150, 12246)"
            ]
          },
          "metadata": {},
          "execution_count": 16
        }
      ]
    },
    {
      "cell_type": "code",
      "source": [
        "embeddings_1 = model.layers[0].get_weights()[0]\n",
        "embeddings_2 = model.layers[2].get_weights()[0].T\n",
        "\n",
        "embeddings = np.mean([embeddings_1, embeddings_2], axis=0)\n",
        "\n",
        "embeddings.shape"
      ],
      "metadata": {
        "colab": {
          "base_uri": "https://localhost:8080/"
        },
        "id": "yVgWxjZuTIZC",
        "outputId": "427c3fba-ffa2-42be-8c68-44d76fe813eb"
      },
      "id": "yVgWxjZuTIZC",
      "execution_count": 17,
      "outputs": [
        {
          "output_type": "execute_result",
          "data": {
            "text/plain": [
              "(12246, 150)"
            ]
          },
          "metadata": {},
          "execution_count": 17
        }
      ]
    },
    {
      "cell_type": "code",
      "source": [
        "def most_similar(word, embeddings):\n",
        "    similar = [id2word[i] for i in\n",
        "               cosine_distances(embeddings[word2id[word]].reshape(1, -1), embeddings).argsort()[0][:10]]\n",
        "    return similar"
      ],
      "metadata": {
        "id": "YLv2GgY1TSpm"
      },
      "id": "YLv2GgY1TSpm",
      "execution_count": 18,
      "outputs": []
    },
    {
      "cell_type": "code",
      "source": [
        "most_similar('машина', embeddings)"
      ],
      "metadata": {
        "colab": {
          "base_uri": "https://localhost:8080/"
        },
        "id": "KAqwrpHRTMZ8",
        "outputId": "d1768dc4-1915-4b87-87d7-c6dcd5af7430"
      },
      "id": "KAqwrpHRTMZ8",
      "execution_count": 19,
      "outputs": [
        {
          "output_type": "execute_result",
          "data": {
            "text/plain": [
              "['машина',\n",
              " 'автомобиль',\n",
              " 'колесо',\n",
              " 'lotus',\n",
              " 'расстреливать',\n",
              " 'убийца',\n",
              " 'привод',\n",
              " 'автомат',\n",
              " 'пистолет',\n",
              " 'стрелять']"
            ]
          },
          "metadata": {},
          "execution_count": 19
        }
      ]
    },
    {
      "cell_type": "code",
      "source": [
        "most_similar('цветок', embeddings)"
      ],
      "metadata": {
        "colab": {
          "base_uri": "https://localhost:8080/"
        },
        "id": "O1M7e3aqTNgY",
        "outputId": "fedf635c-d738-4caf-da30-1718f9995c86"
      },
      "id": "O1M7e3aqTNgY",
      "execution_count": 20,
      "outputs": [
        {
          "output_type": "execute_result",
          "data": {
            "text/plain": [
              "['цветок',\n",
              " 'фиолетовый',\n",
              " 'лепесток',\n",
              " 'коробочка',\n",
              " 'удлинять',\n",
              " 'чашечка',\n",
              " 'цветоножка',\n",
              " 'черешок',\n",
              " 'декоративный',\n",
              " 'крепкий']"
            ]
          },
          "metadata": {},
          "execution_count": 20
        }
      ]
    },
    {
      "cell_type": "markdown",
      "source": [
        "CBOW"
      ],
      "metadata": {
        "id": "wPyVn6VsTf3j"
      },
      "id": "wPyVn6VsTf3j"
    },
    {
      "cell_type": "code",
      "source": [
        "X = []\n",
        "y = []\n",
        "\n",
        "window = 10\n",
        "for sent in sentences[:10000]:\n",
        "    for i in range(len(sent)-1):\n",
        "        word = sent[i]\n",
        "        context = sent[max(0, i-window):i] + sent[i+1:i+window]\n",
        "\n",
        "        X.append(context)\n",
        "        y.append(word)"
      ],
      "metadata": {
        "id": "zIkAh4-STjAv"
      },
      "id": "zIkAh4-STjAv",
      "execution_count": 21,
      "outputs": []
    },
    {
      "cell_type": "code",
      "source": [
        "X[:10]"
      ],
      "metadata": {
        "colab": {
          "base_uri": "https://localhost:8080/"
        },
        "id": "7qcbeiXOTrcj",
        "outputId": "c0154472-9d10-46c1-88ea-93dd24e07839"
      },
      "id": "7qcbeiXOTrcj",
      "execution_count": 22,
      "outputs": [
        {
          "output_type": "execute_result",
          "data": {
            "text/plain": [
              "[[10694, 4491, 2558, 4068, 4127, 3512, 4857, 10694, 11258],\n",
              " [4857, 4491, 2558, 4068, 4127, 3512, 4857, 10694, 11258, 4068],\n",
              " [4857, 10694, 2558, 4068, 4127, 3512, 4857, 10694, 11258, 4068, 7464],\n",
              " [4857, 10694, 4491, 4068, 4127, 3512, 4857, 10694, 11258, 4068, 7464, 10246],\n",
              " [4857,\n",
              "  10694,\n",
              "  4491,\n",
              "  2558,\n",
              "  4127,\n",
              "  3512,\n",
              "  4857,\n",
              "  10694,\n",
              "  11258,\n",
              "  4068,\n",
              "  7464,\n",
              "  10246,\n",
              "  2558],\n",
              " [4857,\n",
              "  10694,\n",
              "  4491,\n",
              "  2558,\n",
              "  4068,\n",
              "  3512,\n",
              "  4857,\n",
              "  10694,\n",
              "  11258,\n",
              "  4068,\n",
              "  7464,\n",
              "  10246,\n",
              "  2558,\n",
              "  5842],\n",
              " [4857,\n",
              "  10694,\n",
              "  4491,\n",
              "  2558,\n",
              "  4068,\n",
              "  4127,\n",
              "  4857,\n",
              "  10694,\n",
              "  11258,\n",
              "  4068,\n",
              "  7464,\n",
              "  10246,\n",
              "  2558,\n",
              "  5842,\n",
              "  4068],\n",
              " [4857,\n",
              "  10694,\n",
              "  4491,\n",
              "  2558,\n",
              "  4068,\n",
              "  4127,\n",
              "  3512,\n",
              "  10694,\n",
              "  11258,\n",
              "  4068,\n",
              "  7464,\n",
              "  10246,\n",
              "  2558,\n",
              "  5842,\n",
              "  4068,\n",
              "  908],\n",
              " [4857,\n",
              "  10694,\n",
              "  4491,\n",
              "  2558,\n",
              "  4068,\n",
              "  4127,\n",
              "  3512,\n",
              "  4857,\n",
              "  11258,\n",
              "  4068,\n",
              "  7464,\n",
              "  10246,\n",
              "  2558,\n",
              "  5842,\n",
              "  4068,\n",
              "  908,\n",
              "  10511],\n",
              " [4857,\n",
              "  10694,\n",
              "  4491,\n",
              "  2558,\n",
              "  4068,\n",
              "  4127,\n",
              "  3512,\n",
              "  4857,\n",
              "  10694,\n",
              "  4068,\n",
              "  7464,\n",
              "  10246,\n",
              "  2558,\n",
              "  5842,\n",
              "  4068,\n",
              "  908,\n",
              "  10511,\n",
              "  107]]"
            ]
          },
          "metadata": {},
          "execution_count": 22
        }
      ]
    },
    {
      "cell_type": "code",
      "source": [
        "X = tf.keras.preprocessing.sequence.pad_sequences(X, maxlen=10, padding='post')\n",
        "y = np.array(y)"
      ],
      "metadata": {
        "id": "HAHl1UowTwLc"
      },
      "id": "HAHl1UowTwLc",
      "execution_count": 23,
      "outputs": []
    },
    {
      "cell_type": "code",
      "source": [
        "# контексты после паддинга\n",
        "X"
      ],
      "metadata": {
        "colab": {
          "base_uri": "https://localhost:8080/"
        },
        "id": "ropTCJkGTw8k",
        "outputId": "e4460eb7-4a58-4bbf-ab36-56f86b8601b8"
      },
      "id": "ropTCJkGTw8k",
      "execution_count": 24,
      "outputs": [
        {
          "output_type": "execute_result",
          "data": {
            "text/plain": [
              "array([[10694,  4491,  2558, ..., 10694, 11258,     0],\n",
              "       [ 4857,  4491,  2558, ..., 10694, 11258,  4068],\n",
              "       [10694,  2558,  4068, ..., 11258,  4068,  7464],\n",
              "       ...,\n",
              "       [ 1643,  6071,  7054, ...,   586,  8713, 11599],\n",
              "       [ 1643,  6071,  7054, ...,  1512,  8713, 11599],\n",
              "       [ 1643,  6071,  7054, ...,  1512,   586, 11599]], dtype=int32)"
            ]
          },
          "metadata": {},
          "execution_count": 24
        }
      ]
    },
    {
      "cell_type": "code",
      "source": [
        "X_train, X_valid, y_train, y_valid = train_test_split(X, y, test_size=0.05)\n",
        "\n",
        "model = tf.keras.Sequential()\n",
        "\n",
        "model.add(tf.keras.layers.Embedding(input_dim=len(word2id),\n",
        "                                    input_length=10,\n",
        "                                    output_dim=150))\n",
        "\n",
        "model.add(tf.keras.layers.Lambda(lambda x: tf.keras.backend.sum(x, axis=1)))\n",
        "\n",
        "model.add(tf.keras.layers.Dense(len(word2id), activation='softmax'))\n",
        "model.compile(optimizer=tf.keras.optimizers.Adam(learning_rate=0.001), loss='sparse_categorical_crossentropy')"
      ],
      "metadata": {
        "id": "ADOR_Af5T7L-"
      },
      "id": "ADOR_Af5T7L-",
      "execution_count": 26,
      "outputs": []
    },
    {
      "cell_type": "code",
      "source": [
        "print(model.summary())"
      ],
      "metadata": {
        "colab": {
          "base_uri": "https://localhost:8080/"
        },
        "id": "UrSAF-bNUPzL",
        "outputId": "a924ebc2-6d44-43bd-a1be-4e9a5334d32e"
      },
      "id": "UrSAF-bNUPzL",
      "execution_count": 27,
      "outputs": [
        {
          "output_type": "stream",
          "name": "stdout",
          "text": [
            "Model: \"sequential_2\"\n",
            "_________________________________________________________________\n",
            " Layer (type)                Output Shape              Param #   \n",
            "=================================================================\n",
            " embedding_2 (Embedding)     (None, 10, 150)           1836900   \n",
            "                                                                 \n",
            " lambda_1 (Lambda)           (None, 150)               0         \n",
            "                                                                 \n",
            " dense_2 (Dense)             (None, 12246)             1849146   \n",
            "                                                                 \n",
            "=================================================================\n",
            "Total params: 3686046 (14.06 MB)\n",
            "Trainable params: 3686046 (14.06 MB)\n",
            "Non-trainable params: 0 (0.00 Byte)\n",
            "_________________________________________________________________\n",
            "None\n"
          ]
        }
      ]
    },
    {
      "cell_type": "markdown",
      "source": [
        "Обучаем модель."
      ],
      "metadata": {
        "id": "X7uBMf7_UfvE"
      },
      "id": "X7uBMf7_UfvE"
    },
    {
      "cell_type": "code",
      "source": [
        "model.fit(X_train, y_train,\n",
        "          validation_data=(X_valid, y_valid),\n",
        "          batch_size=1000,\n",
        "          epochs=5)"
      ],
      "metadata": {
        "colab": {
          "base_uri": "https://localhost:8080/"
        },
        "id": "wibrdy1fUWPH",
        "outputId": "de4fcc82-4746-4354-db74-8e8d01978e22"
      },
      "id": "wibrdy1fUWPH",
      "execution_count": 28,
      "outputs": [
        {
          "output_type": "stream",
          "name": "stdout",
          "text": [
            "Epoch 1/5\n",
            "2013/2013 [==============================] - 55s 27ms/step - loss: 6.7578 - val_loss: 6.2395\n",
            "Epoch 2/5\n",
            "2013/2013 [==============================] - 24s 12ms/step - loss: 5.9647 - val_loss: 5.9389\n",
            "Epoch 3/5\n",
            "2013/2013 [==============================] - 21s 11ms/step - loss: 5.6306 - val_loss: 5.8244\n",
            "Epoch 4/5\n",
            "2013/2013 [==============================] - 22s 11ms/step - loss: 5.4099 - val_loss: 5.7832\n",
            "Epoch 5/5\n",
            "2013/2013 [==============================] - 22s 11ms/step - loss: 5.2457 - val_loss: 5.7814\n"
          ]
        },
        {
          "output_type": "execute_result",
          "data": {
            "text/plain": [
              "<keras.src.callbacks.History at 0x7966802114b0>"
            ]
          },
          "metadata": {},
          "execution_count": 28
        }
      ]
    },
    {
      "cell_type": "code",
      "source": [
        "print(model.history.history.keys())\n",
        "# summarize history for accuracy\n",
        "plt.plot(model.history.history['loss'])\n",
        "plt.plot(model.history.history['val_loss'])\n",
        "plt.title('model loss')\n",
        "plt.ylabel('loss')\n",
        "plt.xlabel('epoch')\n",
        "plt.legend(['train', 'val'], loc='upper left')\n",
        "plt.show()"
      ],
      "metadata": {
        "colab": {
          "base_uri": "https://localhost:8080/",
          "height": 489
        },
        "id": "Rk5eslnPUeac",
        "outputId": "4af4c491-f950-41d9-fbdf-de14c4837243"
      },
      "id": "Rk5eslnPUeac",
      "execution_count": 29,
      "outputs": [
        {
          "output_type": "stream",
          "name": "stdout",
          "text": [
            "dict_keys(['loss', 'val_loss'])\n"
          ]
        },
        {
          "output_type": "display_data",
          "data": {
            "text/plain": [
              "<Figure size 640x480 with 1 Axes>"
            ],
            "image/png": "[encoded data removed]"
          },
          "metadata": {}
        }
      ]
    },
    {
      "cell_type": "code",
      "source": [
        "embeddings_1 = model.layers[0].get_weights()[0]\n",
        "embeddings_2 = model.layers[2].get_weights()[0].T\n",
        "\n",
        "embeddings = np.mean([embeddings_1, embeddings_2], axis=0)\n",
        "\n",
        "embeddings.shape"
      ],
      "metadata": {
        "colab": {
          "base_uri": "https://localhost:8080/"
        },
        "id": "i2uHRIIpUpVd",
        "outputId": "e37a4e20-5a7b-4b04-ff35-a27b1a22c42a"
      },
      "id": "i2uHRIIpUpVd",
      "execution_count": 30,
      "outputs": [
        {
          "output_type": "execute_result",
          "data": {
            "text/plain": [
              "(12246, 150)"
            ]
          },
          "metadata": {},
          "execution_count": 30
        }
      ]
    },
    {
      "cell_type": "code",
      "source": [
        "most_similar('машина', embeddings)"
      ],
      "metadata": {
        "colab": {
          "base_uri": "https://localhost:8080/"
        },
        "id": "ZpLtFt1jU1R_",
        "outputId": "7058485c-9746-4862-ef7c-e503be2522a8"
      },
      "id": "ZpLtFt1jU1R_",
      "execution_count": 31,
      "outputs": [
        {
          "output_type": "execute_result",
          "data": {
            "text/plain": [
              "['машина',\n",
              " 'автомобиль',\n",
              " 'врезаться',\n",
              " 'двигатель',\n",
              " 'кабина',\n",
              " 'взрываться',\n",
              " 'мотор',\n",
              " 'гоночный',\n",
              " 'мощность',\n",
              " 'паровой']"
            ]
          },
          "metadata": {},
          "execution_count": 31
        }
      ]
    },
    {
      "cell_type": "code",
      "source": [
        "most_similar('цветок', embeddings)"
      ],
      "metadata": {
        "colab": {
          "base_uri": "https://localhost:8080/"
        },
        "id": "Wn_I808QU2Bo",
        "outputId": "74bad695-e4c5-4eac-a08f-f1935cfc2435"
      },
      "id": "Wn_I808QU2Bo",
      "execution_count": 32,
      "outputs": [
        {
          "output_type": "execute_result",
          "data": {
            "text/plain": [
              "['цветок',\n",
              " 'соцветие',\n",
              " 'лепесток',\n",
              " 'фиолетовый',\n",
              " 'розовый',\n",
              " 'черешок',\n",
              " 'цвести',\n",
              " 'цветков',\n",
              " 'тычинка',\n",
              " 'цветение']"
            ]
          },
          "metadata": {},
          "execution_count": 32
        }
      ]
    },
    {
      "cell_type": "markdown",
      "source": [
        "CBOW выдаёт результаты лучше, чем Skip Gram."
      ],
      "metadata": {
        "id": "XOYggvXBhc_h"
      },
      "id": "XOYggvXBhc_h"
    },
    {
      "cell_type": "markdown",
      "source": [
        "Добавляем негативное семплирование"
      ],
      "metadata": {
        "id": "-nY4S8C1VQLD"
      },
      "id": "-nY4S8C1VQLD"
    },
    {
      "cell_type": "code",
      "source": [
        "vocab_size = len(id2word)"
      ],
      "metadata": {
        "id": "adH2y-xtVPnR"
      },
      "id": "adH2y-xtVPnR",
      "execution_count": 33,
      "outputs": []
    },
    {
      "cell_type": "code",
      "source": [
        "def gen_batches_sg(sentences, window = 10, batch_size=1000):\n",
        "\n",
        "    left_context_length = (window/2).__ceil__()\n",
        "    right_context_length = window // 2\n",
        "\n",
        "    while True:\n",
        "        X_target = []\n",
        "        X_context = []\n",
        "        y = []\n",
        "\n",
        "        for sent in sentences:\n",
        "            for i in range(len(sent)-1):\n",
        "                word = sent[i]\n",
        "                context = sent[max(0, i-left_context_length):i] + sent[i+1:i+right_context_length]\n",
        "                for context_word in context:\n",
        "                    X_target.append(word)\n",
        "                    X_context.append(context_word)\n",
        "                    y.append(1)\n",
        "\n",
        "                    X_target.append(word)\n",
        "                    X_context.append(np.random.randint(vocab_size))\n",
        "                    y.append(0)\n",
        "\n",
        "                    if len(X_target) >= batch_size:\n",
        "                        X_target = np.array(X_target)\n",
        "                        X_context = np.array(X_context)\n",
        "                        y = np.array(y)\n",
        "                        yield ((X_target, X_context), y)\n",
        "                        X_target = []\n",
        "                        X_context = []\n",
        "                        y = []"
      ],
      "metadata": {
        "id": "pQ4ozRtLVmIK"
      },
      "id": "pQ4ozRtLVmIK",
      "execution_count": 34,
      "outputs": []
    },
    {
      "cell_type": "code",
      "source": [
        "def gen_batches_cbow(sentences, window = 5, batch_size=1000):\n",
        "\n",
        "    left_context_length = (window/2).__ceil__()\n",
        "    right_context_length = window // 2\n",
        "\n",
        "    while True:\n",
        "        X_target = []\n",
        "        X_context = []\n",
        "        y = []\n",
        "\n",
        "        for sent in sentences:\n",
        "            for i in range(len(sent)-1):\n",
        "                word = sent[i]\n",
        "                context = sent[max(0, i-left_context_length):i] + sent[i+1:i+right_context_length]\n",
        "\n",
        "                X_target.append(word)\n",
        "                X_context.append(context)\n",
        "                y.append(1)\n",
        "\n",
        "                X_target.append(np.random.randint(vocab_size))\n",
        "                X_context.append(context)\n",
        "                y.append(0)\n",
        "\n",
        "                if len(X_target) == batch_size:\n",
        "                    X_target = np.array(X_target)\n",
        "                    X_context = tf.keras.preprocessing.sequence.pad_sequences(X_context, maxlen=window)\n",
        "                    y = np.array(y)\n",
        "                    yield ((X_target, X_context), y)\n",
        "                    X_target = []\n",
        "                    X_context = []\n",
        "                    y = []"
      ],
      "metadata": {
        "id": "vfLYrFKoVu80"
      },
      "id": "vfLYrFKoVu80",
      "execution_count": 35,
      "outputs": []
    },
    {
      "cell_type": "code",
      "source": [
        "inputs_target = tf.keras.layers.Input(shape=(1,))\n",
        "inputs_context = tf.keras.layers.Input(shape=(1,))\n",
        "\n",
        "\n",
        "embeddings_target = tf.keras.layers.Embedding(input_dim=len(word2id), output_dim=300)(inputs_target, )\n",
        "embeddings_context = tf.keras.layers.Embedding(input_dim=len(word2id), output_dim=300)(inputs_context, )\n",
        "\n",
        "target = tf.keras.layers.Flatten()(embeddings_target)\n",
        "context = tf.keras.layers.Flatten()(embeddings_context)\n",
        "\n",
        "dot = tf.keras.layers.Dot(1)([target, context])\n",
        "outputs = tf.keras.layers.Activation(activation='sigmoid')(dot)\n",
        "\n",
        "model = tf.keras.Model(inputs=[inputs_target, inputs_context],\n",
        "                       outputs=outputs)\n",
        "optimizer = tf.keras.optimizers.Adam(learning_rate=0.001)\n",
        "model.compile(optimizer=optimizer,\n",
        "              loss='binary_crossentropy',\n",
        "              metrics=['accuracy'])"
      ],
      "metadata": {
        "id": "vI6oz0n1WOfK"
      },
      "id": "vI6oz0n1WOfK",
      "execution_count": 36,
      "outputs": []
    },
    {
      "cell_type": "markdown",
      "source": [
        "Обучаем модель."
      ],
      "metadata": {
        "id": "II2_nid-Wx7i"
      },
      "id": "II2_nid-Wx7i"
    },
    {
      "cell_type": "code",
      "source": [
        "model.fit(gen_batches_sg(sentences[:19000], window=5),\n",
        "          validation_data=gen_batches_sg(sentences[19000:],  window=10),\n",
        "          batch_size=1000,\n",
        "          steps_per_epoch=10000,\n",
        "          validation_steps=30,\n",
        "          epochs=5)"
      ],
      "metadata": {
        "colab": {
          "base_uri": "https://localhost:8080/"
        },
        "id": "BtG8MzsdWmR-",
        "outputId": "82355017-c676-4f9c-9e17-1ae97dfc4760"
      },
      "id": "BtG8MzsdWmR-",
      "execution_count": 37,
      "outputs": [
        {
          "output_type": "stream",
          "name": "stdout",
          "text": [
            "Epoch 1/5\n",
            "10000/10000 [==============================] - 103s 10ms/step - loss: 0.4265 - accuracy: 0.8128 - val_loss: 0.4709 - val_accuracy: 0.7962\n",
            "Epoch 2/5\n",
            "10000/10000 [==============================] - 80s 8ms/step - loss: 0.3893 - accuracy: 0.8330 - val_loss: 0.4446 - val_accuracy: 0.8111\n",
            "Epoch 3/5\n",
            "10000/10000 [==============================] - 74s 7ms/step - loss: 0.3792 - accuracy: 0.8377 - val_loss: 0.4042 - val_accuracy: 0.8330\n",
            "Epoch 4/5\n",
            "10000/10000 [==============================] - 69s 7ms/step - loss: 0.3690 - accuracy: 0.8419 - val_loss: 0.3908 - val_accuracy: 0.8323\n",
            "Epoch 5/5\n",
            "10000/10000 [==============================] - 72s 7ms/step - loss: 0.3571 - accuracy: 0.8468 - val_loss: 0.3858 - val_accuracy: 0.8326\n"
          ]
        },
        {
          "output_type": "execute_result",
          "data": {
            "text/plain": [
              "<keras.src.callbacks.History at 0x79668016be20>"
            ]
          },
          "metadata": {},
          "execution_count": 37
        }
      ]
    },
    {
      "cell_type": "code",
      "source": [
        "embeddings = model.layers[2].get_weights()[0]"
      ],
      "metadata": {
        "id": "dbesjKkcWw2v"
      },
      "id": "dbesjKkcWw2v",
      "execution_count": 38,
      "outputs": []
    },
    {
      "cell_type": "code",
      "source": [
        "most_similar('машина', embeddings)"
      ],
      "metadata": {
        "colab": {
          "base_uri": "https://localhost:8080/"
        },
        "id": "j6havDQFW7TE",
        "outputId": "3d546a97-174d-48ff-da47-e770ab77ae08"
      },
      "id": "j6havDQFW7TE",
      "execution_count": 39,
      "outputs": [
        {
          "output_type": "execute_result",
          "data": {
            "text/plain": [
              "['машина',\n",
              " 'грузовик',\n",
              " 'автомобиль',\n",
              " 'кабина',\n",
              " 'паровоз',\n",
              " 'мотоцикл',\n",
              " 'шасси',\n",
              " 'снаряд',\n",
              " 'двигатель',\n",
              " 'бронированный']"
            ]
          },
          "metadata": {},
          "execution_count": 39
        }
      ]
    },
    {
      "cell_type": "code",
      "source": [
        "most_similar('цветок', embeddings)"
      ],
      "metadata": {
        "colab": {
          "base_uri": "https://localhost:8080/"
        },
        "id": "2SjafeBWW8KE",
        "outputId": "5c6dcce8-8a35-4e03-f345-7f5a66f6010e"
      },
      "id": "2SjafeBWW8KE",
      "execution_count": 40,
      "outputs": [
        {
          "output_type": "execute_result",
          "data": {
            "text/plain": [
              "['цветок',\n",
              " 'темно-коричневый',\n",
              " 'пурпурный',\n",
              " 'зеленоватый',\n",
              " 'округлый',\n",
              " 'беловатый',\n",
              " 'желтоватый',\n",
              " 'надкрылья',\n",
              " 'волосок',\n",
              " 'лепесток']"
            ]
          },
          "metadata": {},
          "execution_count": 40
        }
      ]
    },
    {
      "cell_type": "code",
      "source": [
        "#cbow negative sampling\n",
        "inputs_target = tf.keras.layers.Input(shape=(1,))\n",
        "inputs_context = tf.keras.layers.Input(shape=(10,))\n",
        "\n",
        "\n",
        "embeddings_target = tf.keras.layers.Embedding(input_dim=len(word2id), output_dim=300)(inputs_target, )\n",
        "embeddings_context = tf.keras.layers.Embedding(input_dim=len(word2id), output_dim=300)(inputs_context, )\n",
        "\n",
        "target = tf.keras.layers.Flatten()(embeddings_target)\n",
        "context = tf.keras.layers.Lambda(lambda x: tf.keras.backend.sum(x, axis=1))(embeddings_context)\n",
        "dot = tf.keras.layers.Dot(1)([target, context])\n",
        "\n",
        "outputs = tf.keras.layers.Activation(activation='sigmoid')(dot)\n",
        "\n",
        "model = tf.keras.Model(inputs=[inputs_target, inputs_context],\n",
        "                       outputs=outputs)\n",
        "\n",
        "\n",
        "optimizer = tf.keras.optimizers.Adam(learning_rate=0.001)\n",
        "model.compile(optimizer=optimizer,\n",
        "              loss='binary_crossentropy',\n",
        "              metrics=['accuracy'])"
      ],
      "metadata": {
        "id": "-lOmgQbeXEWd"
      },
      "id": "-lOmgQbeXEWd",
      "execution_count": 41,
      "outputs": []
    },
    {
      "cell_type": "markdown",
      "source": [
        "Обучаем модель."
      ],
      "metadata": {
        "id": "yyNvq7XVXLwh"
      },
      "id": "yyNvq7XVXLwh"
    },
    {
      "cell_type": "code",
      "source": [
        "model.fit(gen_batches_cbow(sentences[:19000], window=5),\n",
        "          validation_data=gen_batches_cbow(sentences[19000:],  window=10),\n",
        "          batch_size=1000,\n",
        "          steps_per_epoch=5000,\n",
        "          validation_steps=30,\n",
        "          epochs=5)"
      ],
      "metadata": {
        "colab": {
          "base_uri": "https://localhost:8080/"
        },
        "id": "349qpfeHXIZz",
        "outputId": "ea1aafdf-bbb3-49e0-8d3f-383169ebb64f"
      },
      "id": "349qpfeHXIZz",
      "execution_count": 42,
      "outputs": [
        {
          "output_type": "stream",
          "name": "stdout",
          "text": [
            "Epoch 1/5\n",
            "5000/5000 [==============================] - 119s 24ms/step - loss: 0.3695 - accuracy: 0.8417 - val_loss: 0.4259 - val_accuracy: 0.8617\n",
            "Epoch 2/5\n",
            "5000/5000 [==============================] - 53s 11ms/step - loss: 0.2822 - accuracy: 0.8841 - val_loss: 0.3787 - val_accuracy: 0.8831\n",
            "Epoch 3/5\n",
            "5000/5000 [==============================] - 47s 9ms/step - loss: 0.2365 - accuracy: 0.9034 - val_loss: 0.3856 - val_accuracy: 0.8829\n",
            "Epoch 4/5\n",
            "5000/5000 [==============================] - 47s 9ms/step - loss: 0.2118 - accuracy: 0.9142 - val_loss: 0.3589 - val_accuracy: 0.8954\n",
            "Epoch 5/5\n",
            "5000/5000 [==============================] - 47s 9ms/step - loss: 0.1900 - accuracy: 0.9240 - val_loss: 0.4772 - val_accuracy: 0.8796\n"
          ]
        },
        {
          "output_type": "execute_result",
          "data": {
            "text/plain": [
              "<keras.src.callbacks.History at 0x7965b755ece0>"
            ]
          },
          "metadata": {},
          "execution_count": 42
        }
      ]
    },
    {
      "cell_type": "code",
      "source": [
        "embeddings = model.layers[2].get_weights()[0]"
      ],
      "metadata": {
        "id": "zOEwoaOeXLhi"
      },
      "id": "zOEwoaOeXLhi",
      "execution_count": 43,
      "outputs": []
    },
    {
      "cell_type": "code",
      "source": [
        "most_similar('машина', embeddings)"
      ],
      "metadata": {
        "colab": {
          "base_uri": "https://localhost:8080/"
        },
        "id": "oDs0AQcfXRT8",
        "outputId": "50534a8b-ab16-4597-bf47-5488b09dcad8"
      },
      "id": "oDs0AQcfXRT8",
      "execution_count": 44,
      "outputs": [
        {
          "output_type": "execute_result",
          "data": {
            "text/plain": [
              "['машина',\n",
              " 'автомобиль',\n",
              " 'бомба',\n",
              " 'самолет',\n",
              " 'грузовик',\n",
              " 'вагон',\n",
              " 'шасси',\n",
              " 'двигатель',\n",
              " 'снаряд',\n",
              " 'конструкция']"
            ]
          },
          "metadata": {},
          "execution_count": 44
        }
      ]
    },
    {
      "cell_type": "code",
      "source": [
        "most_similar('цветок', embeddings)"
      ],
      "metadata": {
        "colab": {
          "base_uri": "https://localhost:8080/"
        },
        "id": "u0BvB656XTSR",
        "outputId": "47a5376f-ff5b-4447-b903-bd9805e97728"
      },
      "id": "u0BvB656XTSR",
      "execution_count": 45,
      "outputs": [
        {
          "output_type": "execute_result",
          "data": {
            "text/plain": [
              "['цветок',\n",
              " 'плод',\n",
              " 'цвет',\n",
              " 'листва',\n",
              " 'продолговатый',\n",
              " 'волосок',\n",
              " 'соцветие',\n",
              " 'яблоко',\n",
              " 'яйцевидный',\n",
              " 'темно-коричневый']"
            ]
          },
          "metadata": {},
          "execution_count": 45
        }
      ]
    },
    {
      "cell_type": "markdown",
      "source": [
        "С подключением негативного семплирования оба подхода работают лучше, но на мой взгляд Skip Gram немного точнее подбирает слова."
      ],
      "metadata": {
        "id": "TsWCAIxdkE0V"
      },
      "id": "TsWCAIxdkE0V"
    },
    {
      "cell_type": "markdown",
      "metadata": {
        "id": "c3b61b7c"
      },
      "source": [
        "# Задание 2 (3 балла)"
      ],
      "id": "c3b61b7c"
    },
    {
      "cell_type": "markdown",
      "metadata": {
        "id": "66eff080"
      },
      "source": [
        "Обучите 1 word2vec и 1 fastext модель в gensim. В каждой из модели нужно задать все параметры, которые мы разбирали на семинаре. Заданные значения должны отличаться от дефолтных и от тех, что мы использовали на семинаре."
      ],
      "id": "66eff080"
    },
    {
      "cell_type": "code",
      "execution_count": 46,
      "metadata": {
        "id": "986c2018",
        "colab": {
          "base_uri": "https://localhost:8080/"
        },
        "outputId": "2289d451-66e5-4dc0-897c-7eaaca9cba75"
      },
      "outputs": [
        {
          "output_type": "stream",
          "name": "stdout",
          "text": [
            "Requirement already satisfied: gensim in /usr/local/lib/python3.10/dist-packages (4.3.2)\n",
            "Requirement already satisfied: numpy>=1.18.5 in /usr/local/lib/python3.10/dist-packages (from gensim) (1.23.5)\n",
            "Requirement already satisfied: scipy>=1.7.0 in /usr/local/lib/python3.10/dist-packages (from gensim) (1.11.4)\n",
            "Requirement already satisfied: smart-open>=1.8.1 in /usr/local/lib/python3.10/dist-packages (from gensim) (6.4.0)\n"
          ]
        }
      ],
      "source": [
        "!pip install gensim"
      ],
      "id": "986c2018"
    },
    {
      "cell_type": "code",
      "source": [
        "import gensim"
      ],
      "metadata": {
        "id": "F6Ar0JT9YH4k"
      },
      "id": "F6Ar0JT9YH4k",
      "execution_count": 47,
      "outputs": []
    },
    {
      "cell_type": "code",
      "execution_count": 48,
      "metadata": {
        "id": "e5035bdc"
      },
      "outputs": [],
      "source": [
        "texts = [preprocess(text) for text in wiki]"
      ],
      "id": "e5035bdc"
    },
    {
      "cell_type": "code",
      "source": [
        "w2v = gensim.models.Word2Vec(texts,\n",
        "                             cbow_mean=0,\n",
        "                             ns_exponent=0.74,\n",
        "                             sample=2e-5,\n",
        "                             vector_size=150,\n",
        "                             min_count=20,\n",
        "                             max_vocab_size=8000,\n",
        "                             window=10,\n",
        "                             epochs=5,\n",
        "                             sg=1,\n",
        "                             negative=13)"
      ],
      "metadata": {
        "id": "JQ9_NsysX9XN"
      },
      "id": "JQ9_NsysX9XN",
      "execution_count": 49,
      "outputs": []
    },
    {
      "cell_type": "code",
      "source": [
        "w2v.wv.most_similar('машина')"
      ],
      "metadata": {
        "colab": {
          "base_uri": "https://localhost:8080/"
        },
        "id": "TqNVMduaYPhg",
        "outputId": "0a0e5ce4-b2b9-4ac8-c2a1-6bf79f8c1a2a"
      },
      "id": "TqNVMduaYPhg",
      "execution_count": 50,
      "outputs": [
        {
          "output_type": "execute_result",
          "data": {
            "text/plain": [
              "[('автомобиль', 0.6943683624267578),\n",
              " ('двигатель', 0.6913053393363953),\n",
              " ('шасси', 0.6681115627288818),\n",
              " ('мощность', 0.6668919920921326),\n",
              " ('водитель', 0.6268988251686096),\n",
              " ('модификация', 0.6237474083900452),\n",
              " ('шина', 0.6230807304382324),\n",
              " ('модель', 0.6196593642234802),\n",
              " ('конструктор', 0.6029698252677917),\n",
              " ('авария', 0.5898498296737671)]"
            ]
          },
          "metadata": {},
          "execution_count": 50
        }
      ]
    },
    {
      "cell_type": "code",
      "source": [
        "w2v.wv.most_similar('цветок')"
      ],
      "metadata": {
        "colab": {
          "base_uri": "https://localhost:8080/"
        },
        "id": "h_RKJJpLYHLg",
        "outputId": "86b1419a-dec0-4355-99cd-0fa753d1bd59"
      },
      "id": "h_RKJJpLYHLg",
      "execution_count": 51,
      "outputs": [
        {
          "output_type": "execute_result",
          "data": {
            "text/plain": [
              "[('плод', 0.7569547295570374),\n",
              " ('цвет', 0.7102493047714233),\n",
              " ('растение', 0.7037890553474426),\n",
              " ('см', 0.7022918462753296),\n",
              " ('ширина', 0.7011943459510803),\n",
              " ('округлый', 0.6987351775169373),\n",
              " ('тонкий', 0.6765201687812805),\n",
              " ('семя', 0.6725724935531616),\n",
              " ('желтый', 0.6634162068367004),\n",
              " ('волосок', 0.6630700826644897)]"
            ]
          },
          "metadata": {},
          "execution_count": 51
        }
      ]
    },
    {
      "cell_type": "code",
      "source": [
        "ft = gensim.models.FastText(texts,\n",
        "                             cbow_mean=0,\n",
        "                             ns_exponent=0.74,\n",
        "                             sample=2e-5,\n",
        "                             vector_size=150,\n",
        "                             min_count=20,\n",
        "                             max_vocab_size=8000,\n",
        "                             window=10,\n",
        "                             epochs=5,\n",
        "                             sg=0,\n",
        "                             negative=13)"
      ],
      "metadata": {
        "id": "u-x0WDM3YSbD"
      },
      "id": "u-x0WDM3YSbD",
      "execution_count": 52,
      "outputs": []
    },
    {
      "cell_type": "code",
      "source": [
        "ft.wv.most_similar('машина')"
      ],
      "metadata": {
        "colab": {
          "base_uri": "https://localhost:8080/"
        },
        "id": "-tq2lgNeYuw-",
        "outputId": "914000f9-c7c1-4b5a-f434-fa057a72fbb1"
      },
      "id": "-tq2lgNeYuw-",
      "execution_count": 53,
      "outputs": [
        {
          "output_type": "execute_result",
          "data": {
            "text/plain": [
              "[('автомашина', 0.8678464293479919),\n",
              " ('бронемашина', 0.8592280149459839),\n",
              " ('гидромашина', 0.8373979330062866),\n",
              " ('машинка', 0.8332700133323669),\n",
              " ('ашина', 0.8186041116714478),\n",
              " ('мачта', 0.7931103110313416),\n",
              " ('локомобиль', 0.7740293145179749),\n",
              " ('минейка', 0.7733217477798462),\n",
              " ('шина', 0.7707192897796631),\n",
              " ('бронеавтомобиль', 0.7630087733268738)]"
            ]
          },
          "metadata": {},
          "execution_count": 53
        }
      ]
    },
    {
      "cell_type": "code",
      "source": [
        "ft.wv.most_similar('цветок')"
      ],
      "metadata": {
        "colab": {
          "base_uri": "https://localhost:8080/"
        },
        "id": "IcXaJKlqYwbN",
        "outputId": "e9a47c6c-67ab-440b-8ab2-82cbb3f72a9b"
      },
      "id": "IcXaJKlqYwbN",
      "execution_count": 54,
      "outputs": [
        {
          "output_type": "execute_result",
          "data": {
            "text/plain": [
              "[('цветоножка', 0.9276681542396545),\n",
              " ('цветонос', 0.9056914448738098),\n",
              " ('цвет', 0.8999495506286621),\n",
              " ('цветоложе', 0.8913561105728149),\n",
              " ('расцветка', 0.8507542610168457),\n",
              " ('веточка', 0.8370758295059204),\n",
              " ('светло-желтый', 0.827544629573822),\n",
              " ('крышечка', 0.8233448266983032),\n",
              " ('щелчок', 0.8232196569442749),\n",
              " ('светло-коричневый', 0.8155714869499207)]"
            ]
          },
          "metadata": {},
          "execution_count": 54
        }
      ]
    },
    {
      "cell_type": "markdown",
      "metadata": {
        "id": "e4bb928c"
      },
      "source": [
        "# Задание 3 (4 балла)"
      ],
      "id": "e4bb928c"
    },
    {
      "cell_type": "markdown",
      "metadata": {
        "id": "3019b0d1"
      },
      "source": [
        "Используя датасет для классификации (labeled.csv) и простую нейронную сеть (последняя модель в семинаре), оцените качество полученных эмбедингов в задании 1 и 2 (4 набора эмбедингов), также проверьте 1 любую из предобученных моделей с rus-vectores (но только не tayga_upos_skipgram_300_2_2019).\n",
        "Какая модель показывает наилучший результат?\n",
        "\n",
        "Убедитесь, что для каждой модели вы корректно воспроизводите пайплайн предобработки (в 1 задании у вас лемматизация, не забудьте ее применить к датасету для классификации; у выбранной предобученной модели может быть своя специфичная предобработка - ее нужно воспроизвести)"
      ],
      "id": "3019b0d1"
    },
    {
      "cell_type": "code",
      "execution_count": null,
      "metadata": {
        "id": "ed908832"
      },
      "outputs": [],
      "source": [],
      "id": "ed908832"
    },
    {
      "cell_type": "code",
      "execution_count": null,
      "metadata": {
        "id": "60c18c5a"
      },
      "outputs": [],
      "source": [],
      "id": "60c18c5a"
    }
  ],
  "metadata": {
    "accelerator": "GPU",
    "colab": {
      "provenance": []
    },
    "kernelspec": {
      "display_name": "Python 3",
      "name": "python3"
    },
    "language_info": {
      "codemirror_mode": {
        "name": "ipython",
        "version": 3
      },
      "file_extension": ".py",
      "mimetype": "text/x-python",
      "name": "python",
      "nbconvert_exporter": "python",
      "pygments_lexer": "ipython3",
      "version": "3.9.16"
    }
  },
  "nbformat": 4,
  "nbformat_minor": 5
}