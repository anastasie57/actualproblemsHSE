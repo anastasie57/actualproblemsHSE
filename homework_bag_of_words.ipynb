{
  "cells": [
    {
      "cell_type": "markdown",
      "id": "b20f786e",
      "metadata": {
        "id": "b20f786e"
      },
      "source": [
        "# Домашнее задание № 2. Мешок слов"
      ]
    },
    {
      "cell_type": "markdown",
      "id": "0cf72d19",
      "metadata": {
        "id": "0cf72d19"
      },
      "source": [
        "## Задание 1 (3 балла)"
      ]
    },
    {
      "cell_type": "markdown",
      "id": "4a045e99",
      "metadata": {
        "id": "4a045e99"
      },
      "source": [
        "У векторайзеров в sklearn есть встроенная токенизация на регулярных выражениях. Найдите способо заменить её на кастомную токенизацию"
      ]
    },
    {
      "cell_type": "markdown",
      "id": "90b4d453",
      "metadata": {
        "id": "90b4d453"
      },
      "source": [
        "Обучите векторайзер с дефолтной токенизацией и с токенизацией razdel.tokenize. Обучите классификатор (любой) с каждым из векторизаторов. Сравните метрики и выберете победителя.\n",
        "\n",
        "(в вашей тетрадке должен быть код обучения и все метрики; если вы сдаете в .py файлах то сохраните полученные метрики в отдельном файле или в комментариях)"
      ]
    },
    {
      "cell_type": "code",
      "execution_count": null,
      "metadata": {
        "colab": {
          "base_uri": "https://localhost:8080/"
        },
        "id": "pd4vdsCCn4DQ",
        "outputId": "b5b6296e-b327-4422-d764-de9d8f1e5f27"
      },
      "outputs": [
        {
          "output_type": "stream",
          "name": "stdout",
          "text": [
            "Collecting razdel\n",
            "  Downloading razdel-0.5.0-py3-none-any.whl (21 kB)\n",
            "Installing collected packages: razdel\n",
            "Successfully installed razdel-0.5.0\n",
            "Requirement already satisfied: pandas in /usr/local/lib/python3.10/dist-packages (1.5.3)\n",
            "Requirement already satisfied: python-dateutil>=2.8.1 in /usr/local/lib/python3.10/dist-packages (from pandas) (2.8.2)\n",
            "Requirement already satisfied: pytz>=2020.1 in /usr/local/lib/python3.10/dist-packages (from pandas) (2023.3.post1)\n",
            "Requirement already satisfied: numpy>=1.21.0 in /usr/local/lib/python3.10/dist-packages (from pandas) (1.23.5)\n",
            "Requirement already satisfied: six>=1.5 in /usr/local/lib/python3.10/dist-packages (from python-dateutil>=2.8.1->pandas) (1.16.0)\n",
            "Requirement already satisfied: scikit-learn in /usr/local/lib/python3.10/dist-packages (1.2.2)\n",
            "Requirement already satisfied: numpy>=1.17.3 in /usr/local/lib/python3.10/dist-packages (from scikit-learn) (1.23.5)\n",
            "Requirement already satisfied: scipy>=1.3.2 in /usr/local/lib/python3.10/dist-packages (from scikit-learn) (1.11.3)\n",
            "Requirement already satisfied: joblib>=1.1.1 in /usr/local/lib/python3.10/dist-packages (from scikit-learn) (1.3.2)\n",
            "Requirement already satisfied: threadpoolctl>=2.0.0 in /usr/local/lib/python3.10/dist-packages (from scikit-learn) (3.2.0)\n"
          ]
        }
      ],
      "source": [
        "%pip install razdel\n",
        "%pip install pandas\n",
        "%pip install scikit-learn"
      ],
      "id": "pd4vdsCCn4DQ"
    },
    {
      "cell_type": "code",
      "execution_count": 106,
      "id": "129c4d2e",
      "metadata": {
        "id": "129c4d2e",
        "colab": {
          "base_uri": "https://localhost:8080/"
        },
        "outputId": "ea1e3400-341a-4d44-d3af-ec207b636c82"
      },
      "outputs": [
        {
          "output_type": "stream",
          "name": "stderr",
          "text": [
            "[nltk_data] Downloading package stopwords to /root/nltk_data...\n",
            "[nltk_data]   Package stopwords is already up-to-date!\n"
          ]
        },
        {
          "output_type": "execute_result",
          "data": {
            "text/plain": [
              "True"
            ]
          },
          "metadata": {},
          "execution_count": 106
        }
      ],
      "source": [
        "import pandas as pd\n",
        "from sklearn.feature_extraction.text import CountVectorizer, TfidfVectorizer\n",
        "from sklearn.model_selection import train_test_split\n",
        "from sklearn.linear_model import LogisticRegression\n",
        "import razdel\n",
        "from sklearn.metrics import classification_report, accuracy_score\n",
        "from sklearn.neighbors import KNeighborsClassifier\n",
        "from sklearn.tree import DecisionTreeClassifier\n",
        "from sklearn.naive_bayes import MultinomialNB\n",
        "from sklearn.ensemble import RandomForestClassifier\n",
        "import nltk\n",
        "from nltk.corpus import stopwords\n",
        "import numpy as np\n",
        "nltk.download('stopwords')"
      ]
    },
    {
      "cell_type": "code",
      "execution_count": 23,
      "id": "b4314de5",
      "metadata": {
        "id": "b4314de5"
      },
      "outputs": [],
      "source": [
        "data = pd.read_csv('labeled.csv')"
      ]
    },
    {
      "cell_type": "code",
      "source": [
        "def razdel_tokenize(text):\n",
        "    tokens = razdel.tokenize(text)\n",
        "    return [token.text for token in tokens]"
      ],
      "metadata": {
        "id": "YTJl8DSHswfK"
      },
      "id": "YTJl8DSHswfK",
      "execution_count": null,
      "outputs": []
    },
    {
      "cell_type": "code",
      "execution_count": 24,
      "id": "cbffbbc7",
      "metadata": {
        "id": "cbffbbc7"
      },
      "outputs": [],
      "source": [
        "train, test = train_test_split(data, test_size=0.1, shuffle=True)\n",
        "train.reset_index(inplace=True)\n",
        "test.reset_index(inplace=True)\n",
        "vectorizer_default = CountVectorizer()\n",
        "X = vectorizer_default.fit_transform(train.comment)\n",
        "X_test = vectorizer_default.transform(test.comment)\n",
        "y = train.toxic.values\n",
        "y_test = test.toxic.values"
      ]
    },
    {
      "cell_type": "code",
      "execution_count": 25,
      "id": "1d2477b9",
      "metadata": {
        "colab": {
          "base_uri": "https://localhost:8080/",
          "height": 74
        },
        "id": "1d2477b9",
        "outputId": "764c305b-0195-48cd-e5ee-1973180128c2"
      },
      "outputs": [
        {
          "output_type": "execute_result",
          "data": {
            "text/plain": [
              "LogisticRegression(C=0.1, class_weight='balanced')"
            ],
            "text/html": [
              "<style>#sk-container-id-4 {color: black;background-color: white;}#sk-container-id-4 pre{padding: 0;}#sk-container-id-4 div.sk-toggleable {background-color: white;}#sk-container-id-4 label.sk-toggleable__label {cursor: pointer;display: block;width: 100%;margin-bottom: 0;padding: 0.3em;box-sizing: border-box;text-align: center;}#sk-container-id-4 label.sk-toggleable__label-arrow:before {content: \"▸\";float: left;margin-right: 0.25em;color: #696969;}#sk-container-id-4 label.sk-toggleable__label-arrow:hover:before {color: black;}#sk-container-id-4 div.sk-estimator:hover label.sk-toggleable__label-arrow:before {color: black;}#sk-container-id-4 div.sk-toggleable__content {max-height: 0;max-width: 0;overflow: hidden;text-align: left;background-color: #f0f8ff;}#sk-container-id-4 div.sk-toggleable__content pre {margin: 0.2em;color: black;border-radius: 0.25em;background-color: #f0f8ff;}#sk-container-id-4 input.sk-toggleable__control:checked~div.sk-toggleable__content {max-height: 200px;max-width: 100%;overflow: auto;}#sk-container-id-4 input.sk-toggleable__control:checked~label.sk-toggleable__label-arrow:before {content: \"▾\";}#sk-container-id-4 div.sk-estimator input.sk-toggleable__control:checked~label.sk-toggleable__label {background-color: #d4ebff;}#sk-container-id-4 div.sk-label input.sk-toggleable__control:checked~label.sk-toggleable__label {background-color: #d4ebff;}#sk-container-id-4 input.sk-hidden--visually {border: 0;clip: rect(1px 1px 1px 1px);clip: rect(1px, 1px, 1px, 1px);height: 1px;margin: -1px;overflow: hidden;padding: 0;position: absolute;width: 1px;}#sk-container-id-4 div.sk-estimator {font-family: monospace;background-color: #f0f8ff;border: 1px dotted black;border-radius: 0.25em;box-sizing: border-box;margin-bottom: 0.5em;}#sk-container-id-4 div.sk-estimator:hover {background-color: #d4ebff;}#sk-container-id-4 div.sk-parallel-item::after {content: \"\";width: 100%;border-bottom: 1px solid gray;flex-grow: 1;}#sk-container-id-4 div.sk-label:hover label.sk-toggleable__label {background-color: #d4ebff;}#sk-container-id-4 div.sk-serial::before {content: \"\";position: absolute;border-left: 1px solid gray;box-sizing: border-box;top: 0;bottom: 0;left: 50%;z-index: 0;}#sk-container-id-4 div.sk-serial {display: flex;flex-direction: column;align-items: center;background-color: white;padding-right: 0.2em;padding-left: 0.2em;position: relative;}#sk-container-id-4 div.sk-item {position: relative;z-index: 1;}#sk-container-id-4 div.sk-parallel {display: flex;align-items: stretch;justify-content: center;background-color: white;position: relative;}#sk-container-id-4 div.sk-item::before, #sk-container-id-4 div.sk-parallel-item::before {content: \"\";position: absolute;border-left: 1px solid gray;box-sizing: border-box;top: 0;bottom: 0;left: 50%;z-index: -1;}#sk-container-id-4 div.sk-parallel-item {display: flex;flex-direction: column;z-index: 1;position: relative;background-color: white;}#sk-container-id-4 div.sk-parallel-item:first-child::after {align-self: flex-end;width: 50%;}#sk-container-id-4 div.sk-parallel-item:last-child::after {align-self: flex-start;width: 50%;}#sk-container-id-4 div.sk-parallel-item:only-child::after {width: 0;}#sk-container-id-4 div.sk-dashed-wrapped {border: 1px dashed gray;margin: 0 0.4em 0.5em 0.4em;box-sizing: border-box;padding-bottom: 0.4em;background-color: white;}#sk-container-id-4 div.sk-label label {font-family: monospace;font-weight: bold;display: inline-block;line-height: 1.2em;}#sk-container-id-4 div.sk-label-container {text-align: center;}#sk-container-id-4 div.sk-container {/* jupyter's `normalize.less` sets `[hidden] { display: none; }` but bootstrap.min.css set `[hidden] { display: none !important; }` so we also need the `!important` here to be able to override the default hidden behavior on the sphinx rendered scikit-learn.org. See: https://github.com/scikit-learn/scikit-learn/issues/21755 */display: inline-block !important;position: relative;}#sk-container-id-4 div.sk-text-repr-fallback {display: none;}</style><div id=\"sk-container-id-4\" class=\"sk-top-container\"><div class=\"sk-text-repr-fallback\"><pre>LogisticRegression(C=0.1, class_weight=&#x27;balanced&#x27;)</pre><b>In a Jupyter environment, please rerun this cell to show the HTML representation or trust the notebook. <br />On GitHub, the HTML representation is unable to render, please try loading this page with nbviewer.org.</b></div><div class=\"sk-container\" hidden><div class=\"sk-item\"><div class=\"sk-estimator sk-toggleable\"><input class=\"sk-toggleable__control sk-hidden--visually\" id=\"sk-estimator-id-4\" type=\"checkbox\" checked><label for=\"sk-estimator-id-4\" class=\"sk-toggleable__label sk-toggleable__label-arrow\">LogisticRegression</label><div class=\"sk-toggleable__content\"><pre>LogisticRegression(C=0.1, class_weight=&#x27;balanced&#x27;)</pre></div></div></div></div></div>"
            ]
          },
          "metadata": {},
          "execution_count": 25
        }
      ],
      "source": [
        "clf = LogisticRegression(C=0.1, class_weight='balanced')\n",
        "clf.fit(X, y)"
      ]
    },
    {
      "cell_type": "code",
      "source": [
        "preds = clf.predict(X_test)\n",
        "print(classification_report(y_test, preds, zero_division=0))"
      ],
      "metadata": {
        "colab": {
          "base_uri": "https://localhost:8080/"
        },
        "id": "O-3rnhQhhjwq",
        "outputId": "17289338-9aa7-40cd-938a-53485c26a414"
      },
      "id": "O-3rnhQhhjwq",
      "execution_count": 26,
      "outputs": [
        {
          "output_type": "stream",
          "name": "stdout",
          "text": [
            "              precision    recall  f1-score   support\n",
            "\n",
            "         0.0       0.91      0.83      0.87       941\n",
            "         1.0       0.73      0.85      0.79       501\n",
            "\n",
            "    accuracy                           0.84      1442\n",
            "   macro avg       0.82      0.84      0.83      1442\n",
            "weighted avg       0.85      0.84      0.84      1442\n",
            "\n"
          ]
        }
      ]
    },
    {
      "cell_type": "code",
      "source": [
        "probas = clf.predict_proba(X_test)\n",
        "preds = (probas[:,1]>0.85).astype(int)\n",
        "print(classification_report(y_test, preds, zero_division=0))\n"
      ],
      "metadata": {
        "colab": {
          "base_uri": "https://localhost:8080/"
        },
        "id": "Bd1SUufdiD4i",
        "outputId": "19091b28-cd78-43b8-9699-0b16fe67c7df"
      },
      "id": "Bd1SUufdiD4i",
      "execution_count": 28,
      "outputs": [
        {
          "output_type": "stream",
          "name": "stdout",
          "text": [
            "              precision    recall  f1-score   support\n",
            "\n",
            "         0.0       0.72      0.99      0.83       941\n",
            "         1.0       0.95      0.26      0.41       501\n",
            "\n",
            "    accuracy                           0.74      1442\n",
            "   macro avg       0.83      0.63      0.62      1442\n",
            "weighted avg       0.80      0.74      0.68      1442\n",
            "\n"
          ]
        }
      ]
    },
    {
      "cell_type": "code",
      "source": [
        "vectorizer_custom = CountVectorizer(tokenizer=razdel_tokenize)\n",
        "X_custom = vectorizer_custom.fit_transform(train.comment)\n",
        "X_custom_test = vectorizer_custom.transform(test.comment)\n",
        "\n",
        "clf_custom = LogisticRegression(C=0.1, class_weight='balanced')\n",
        "clf_custom.fit(X_custom, y)\n",
        "\n",
        "preds = clf_custom.predict(X_custom_test)\n",
        "print(classification_report(y_test, preds, zero_division=0))\n",
        "\n",
        "probas = clf_custom.predict_proba(X_custom_test)\n",
        "preds = (probas[:,1]>0.85).astype(int)\n",
        "print(classification_report(y_test, preds, zero_division=0))"
      ],
      "metadata": {
        "colab": {
          "base_uri": "https://localhost:8080/"
        },
        "id": "8vhXdnnAiTxU",
        "outputId": "3dd0b4d6-b063-49d2-bcff-180bab29ce7f"
      },
      "id": "8vhXdnnAiTxU",
      "execution_count": 29,
      "outputs": [
        {
          "output_type": "stream",
          "name": "stderr",
          "text": [
            "/usr/local/lib/python3.10/dist-packages/sklearn/feature_extraction/text.py:528: UserWarning: The parameter 'token_pattern' will not be used since 'tokenizer' is not None'\n",
            "  warnings.warn(\n"
          ]
        },
        {
          "output_type": "stream",
          "name": "stdout",
          "text": [
            "              precision    recall  f1-score   support\n",
            "\n",
            "         0.0       0.90      0.82      0.86       941\n",
            "         1.0       0.71      0.83      0.77       501\n",
            "\n",
            "    accuracy                           0.83      1442\n",
            "   macro avg       0.81      0.83      0.81      1442\n",
            "weighted avg       0.84      0.83      0.83      1442\n",
            "\n",
            "              precision    recall  f1-score   support\n",
            "\n",
            "         0.0       0.72      0.99      0.84       941\n",
            "         1.0       0.96      0.28      0.43       501\n",
            "\n",
            "    accuracy                           0.75      1442\n",
            "   macro avg       0.84      0.64      0.63      1442\n",
            "weighted avg       0.80      0.75      0.70      1442\n",
            "\n"
          ]
        },
        {
          "output_type": "stream",
          "name": "stderr",
          "text": [
            "/usr/local/lib/python3.10/dist-packages/sklearn/linear_model/_logistic.py:458: ConvergenceWarning: lbfgs failed to converge (status=1):\n",
            "STOP: TOTAL NO. of ITERATIONS REACHED LIMIT.\n",
            "\n",
            "Increase the number of iterations (max_iter) or scale the data as shown in:\n",
            "    https://scikit-learn.org/stable/modules/preprocessing.html\n",
            "Please also refer to the documentation for alternative solver options:\n",
            "    https://scikit-learn.org/stable/modules/linear_model.html#logistic-regression\n",
            "  n_iter_i = _check_optimize_result(\n"
          ]
        }
      ]
    },
    {
      "cell_type": "markdown",
      "source": [
        "Получается классификатор, обученный на векторизаторе с токенизацией от razdel'а, работает чуть-чуть лучше."
      ],
      "metadata": {
        "id": "P8ChQSY8j3jG"
      },
      "id": "P8ChQSY8j3jG"
    },
    {
      "cell_type": "markdown",
      "id": "91b9076e",
      "metadata": {
        "id": "91b9076e"
      },
      "source": [
        "## Задание 2 (3 балла)"
      ]
    },
    {
      "cell_type": "markdown",
      "id": "14e25357",
      "metadata": {
        "id": "14e25357"
      },
      "source": [
        "Обучите 2 любых разных классификатора из семинара. Предскажите токсичность для текстов из тестовой выборки (используйте одну и ту же выборку для обоих классификаторов) и найдите 10 самых токсичных для каждого из классификаторов. Сравните получаемые тексты - какие тексты совпадают, какие отличаются, правда ли тексты токсичные?"
      ]
    },
    {
      "cell_type": "markdown",
      "id": "7de962ad",
      "metadata": {
        "id": "7de962ad"
      },
      "source": [
        "Требования к моделям:   \n",
        "а) один классификатор должен использовать CountVectorizer, другой TfidfVectorizer  \n",
        "б) у векторазера должны быть вручную заданы как минимум 5 параметров (можно ставить разные параметры tfidfvectorizer и countvectorizer)  \n",
        "в) у классификатора должно быть задано вручную как минимум 2 параметра (по возможности)  \n",
        "г)  f1 мера каждого из классификаторов должна быть минимум 0.75  \n",
        "\n",
        "*random_seed не считается за параметр"
      ]
    },
    {
      "cell_type": "code",
      "execution_count": 30,
      "id": "ac0a5471",
      "metadata": {
        "id": "ac0a5471"
      },
      "outputs": [],
      "source": [
        "vectorizer_count = CountVectorizer(lowercase=True, tokenizer=razdel_tokenize, min_df=1, analyzer='word', ngram_range=(1,1))\n",
        "vectorizer_tfidf = TfidfVectorizer(lowercase=True, tokenizer=razdel_tokenize, encoding='utf-8', use_idf=True, smooth_idf=True)"
      ]
    },
    {
      "cell_type": "code",
      "execution_count": 91,
      "id": "745bd58f",
      "metadata": {
        "id": "745bd58f",
        "colab": {
          "base_uri": "https://localhost:8080/"
        },
        "outputId": "1103ec2a-881e-4f50-9b0a-8b62f1a3914f"
      },
      "outputs": [
        {
          "output_type": "stream",
          "name": "stderr",
          "text": [
            "/usr/local/lib/python3.10/dist-packages/sklearn/feature_extraction/text.py:528: UserWarning: The parameter 'token_pattern' will not be used since 'tokenizer' is not None'\n",
            "  warnings.warn(\n"
          ]
        },
        {
          "output_type": "stream",
          "name": "stdout",
          "text": [
            "              precision    recall  f1-score   support\n",
            "\n",
            "         0.0       0.72      0.99      0.84       941\n",
            "         1.0       0.96      0.28      0.43       501\n",
            "\n",
            "    accuracy                           0.75      1442\n",
            "   macro avg       0.84      0.64      0.63      1442\n",
            "weighted avg       0.80      0.75      0.70      1442\n",
            "\n"
          ]
        },
        {
          "output_type": "stream",
          "name": "stderr",
          "text": [
            "/usr/local/lib/python3.10/dist-packages/sklearn/linear_model/_logistic.py:458: ConvergenceWarning: lbfgs failed to converge (status=1):\n",
            "STOP: TOTAL NO. of ITERATIONS REACHED LIMIT.\n",
            "\n",
            "Increase the number of iterations (max_iter) or scale the data as shown in:\n",
            "    https://scikit-learn.org/stable/modules/preprocessing.html\n",
            "Please also refer to the documentation for alternative solver options:\n",
            "    https://scikit-learn.org/stable/modules/linear_model.html#logistic-regression\n",
            "  n_iter_i = _check_optimize_result(\n"
          ]
        }
      ],
      "source": [
        "X = vectorizer_count.fit_transform(train.comment)\n",
        "X_test = vectorizer_count.transform(test.comment)\n",
        "\n",
        "clf_lr = LogisticRegression(C=0.1, class_weight='balanced')\n",
        "clf_lr.fit(X, y)\n",
        "\n",
        "probas = clf_lr.predict_proba(X_test)\n",
        "preds = (probas[:,1]>0.85).astype(int)\n",
        "print(classification_report(y_test, preds, zero_division=0))"
      ]
    },
    {
      "cell_type": "code",
      "execution_count": 45,
      "id": "90311fac",
      "metadata": {
        "id": "90311fac",
        "colab": {
          "base_uri": "https://localhost:8080/"
        },
        "outputId": "e8a2b917-4ac0-4f97-b4fc-99398ce34021"
      },
      "outputs": [
        {
          "output_type": "stream",
          "name": "stderr",
          "text": [
            "/usr/local/lib/python3.10/dist-packages/sklearn/feature_extraction/text.py:528: UserWarning: The parameter 'token_pattern' will not be used since 'tokenizer' is not None'\n",
            "  warnings.warn(\n"
          ]
        },
        {
          "output_type": "stream",
          "name": "stdout",
          "text": [
            "              precision    recall  f1-score   support\n",
            "\n",
            "         0.0       0.77      0.99      0.87       941\n",
            "         1.0       0.95      0.45      0.61       501\n",
            "\n",
            "    accuracy                           0.80      1442\n",
            "   macro avg       0.86      0.72      0.74      1442\n",
            "weighted avg       0.83      0.80      0.78      1442\n",
            "\n"
          ]
        }
      ],
      "source": [
        "X = vectorizer_tfidf.fit_transform(train.comment)\n",
        "X_test = vectorizer_tfidf.transform(test.comment)\n",
        "\n",
        "clf_mnb = MultinomialNB(alpha=0.1, fit_prior=False)\n",
        "clf_mnb.fit(X, y)\n",
        "\n",
        "probas = clf_mnb.predict_proba(X_test)\n",
        "preds = (probas[:,1]>0.85).astype(int)\n",
        "print(classification_report(y_test, preds, zero_division=0))"
      ]
    },
    {
      "cell_type": "markdown",
      "id": "6f228c3e",
      "metadata": {
        "id": "6f228c3e"
      },
      "source": [
        "## Задание 3 (4 балла - 1 балл за каждый классификатор)"
      ]
    },
    {
      "cell_type": "markdown",
      "id": "566929b7",
      "metadata": {
        "id": "566929b7"
      },
      "source": [
        "Для классификаторов Logistic Regression, Decision Trees, Naive Bayes, RandomForest найдите способ извлечь важность признаков для предсказания токсичного класса. Сопоставьте полученные числа со словами (или нграммами) в словаре и найдите топ - 5 \"токсичных\" слов для каждого из классификаторов.\n",
        "\n",
        "Важное требование: в топе не должно быть стоп-слов. Для этого вам нужно будет правильным образом настроить векторизацию.\n",
        "Также как и в предыдущем задании у классификаторов должно быть задано вручную как минимум 2 параметра (по возможности, f1 мера каждого из классификаторов должна быть минимум 0.75"
      ]
    },
    {
      "cell_type": "code",
      "execution_count": 147,
      "id": "81f86878",
      "metadata": {
        "id": "81f86878"
      },
      "outputs": [],
      "source": [
        "list_of_stopwords = list(stopwords.words('russian'))\n",
        "list_of_stopwords += list('?!.,();:...-')"
      ]
    },
    {
      "cell_type": "code",
      "execution_count": 105,
      "id": "15af4e1f",
      "metadata": {
        "id": "15af4e1f",
        "colab": {
          "base_uri": "https://localhost:8080/"
        },
        "outputId": "02177558-71d8-4ce9-825c-4c2e4569d641"
      },
      "outputs": [
        {
          "output_type": "stream",
          "name": "stderr",
          "text": [
            "/usr/local/lib/python3.10/dist-packages/sklearn/feature_extraction/text.py:528: UserWarning: The parameter 'token_pattern' will not be used since 'tokenizer' is not None'\n",
            "  warnings.warn(\n",
            "/usr/local/lib/python3.10/dist-packages/sklearn/linear_model/_logistic.py:458: ConvergenceWarning: lbfgs failed to converge (status=1):\n",
            "STOP: TOTAL NO. of ITERATIONS REACHED LIMIT.\n",
            "\n",
            "Increase the number of iterations (max_iter) or scale the data as shown in:\n",
            "    https://scikit-learn.org/stable/modules/preprocessing.html\n",
            "Please also refer to the documentation for alternative solver options:\n",
            "    https://scikit-learn.org/stable/modules/linear_model.html#logistic-regression\n",
            "  n_iter_i = _check_optimize_result(\n"
          ]
        },
        {
          "output_type": "stream",
          "name": "stdout",
          "text": [
            "              precision    recall  f1-score   support\n",
            "\n",
            "         0.0       0.89      0.82      0.85       941\n",
            "         1.0       0.70      0.81      0.76       501\n",
            "\n",
            "    accuracy                           0.82      1442\n",
            "   macro avg       0.80      0.82      0.80      1442\n",
            "weighted avg       0.83      0.82      0.82      1442\n",
            "\n"
          ]
        },
        {
          "output_type": "execute_result",
          "data": {
            "text/plain": [
              "array(['хохлы', 'хохлов', 'тебе', 'пиздец', 'нахуй'], dtype=object)"
            ]
          },
          "metadata": {},
          "execution_count": 105
        }
      ],
      "source": [
        "vectorizer_count = CountVectorizer(stop_words=list_of_stopwords, tokenizer=razdel_tokenize)\n",
        "X = vectorizer_count.fit_transform(train.comment)\n",
        "X_test = vectorizer_count.transform(test.comment)\n",
        "\n",
        "clf_lr = LogisticRegression(C=0.1, class_weight='balanced')\n",
        "clf_lr.fit(X, y)\n",
        "clf_lr.classes_\n",
        "\n",
        "preds = clf_lr.predict(X_test)\n",
        "print(classification_report(y_test, preds, zero_division=0))\n",
        "\n",
        "toxic5 = []\n",
        "\n",
        "for i in np.sort(clf_lr.coef_[0])[::-1][:5]:\n",
        "  toxic5.append(list(clf_lr.coef_[0]).index(i))\n",
        "vectorizer_count.get_feature_names_out()[toxic5]"
      ]
    },
    {
      "cell_type": "code",
      "source": [
        "vectorizer_count = CountVectorizer(stop_words=list_of_stopwords, tokenizer=razdel_tokenize)\n",
        "X = vectorizer_count.fit_transform(train.comment)\n",
        "X_test = vectorizer_count.transform(test.comment)\n",
        "\n",
        "clf_dtree = DecisionTreeClassifier(max_depth=500, class_weight='balanced')\n",
        "clf_dtree.fit(X, y)\n",
        "clf_dtree.classes_\n",
        "\n",
        "preds = clf_dtree.predict(X_test)\n",
        "print(classification_report(y_test, preds, zero_division=0))\n",
        "\n",
        "toxic5 = []\n",
        "\n",
        "for i in np.sort(clf_dtree.feature_importances_)[::-1][:5]:\n",
        "  toxic5.append(list(clf_dtree.feature_importances_).index(i))\n",
        "vectorizer_count.get_feature_names_out()[toxic5]"
      ],
      "metadata": {
        "colab": {
          "base_uri": "https://localhost:8080/"
        },
        "id": "ZpQCYtqGyooy",
        "outputId": "7de86178-de2b-45bd-b19a-b3c1caea68a7"
      },
      "id": "ZpQCYtqGyooy",
      "execution_count": 136,
      "outputs": [
        {
          "output_type": "stream",
          "name": "stderr",
          "text": [
            "/usr/local/lib/python3.10/dist-packages/sklearn/feature_extraction/text.py:528: UserWarning: The parameter 'token_pattern' will not be used since 'tokenizer' is not None'\n",
            "  warnings.warn(\n"
          ]
        },
        {
          "output_type": "stream",
          "name": "stdout",
          "text": [
            "              precision    recall  f1-score   support\n",
            "\n",
            "         0.0       0.84      0.76      0.80       941\n",
            "         1.0       0.62      0.72      0.66       501\n",
            "\n",
            "    accuracy                           0.75      1442\n",
            "   macro avg       0.73      0.74      0.73      1442\n",
            "weighted avg       0.76      0.75      0.75      1442\n",
            "\n"
          ]
        },
        {
          "output_type": "execute_result",
          "data": {
            "text/plain": [
              "array(['очень', 'тебе', 'хохлы', 'хохлов', 'нахуй'], dtype=object)"
            ]
          },
          "metadata": {},
          "execution_count": 136
        }
      ]
    },
    {
      "cell_type": "code",
      "source": [
        "vectorizer_count = CountVectorizer(stop_words=list_of_stopwords, tokenizer=razdel_tokenize)\n",
        "X = vectorizer_count.fit_transform(train.comment)\n",
        "X_test = vectorizer_count.transform(test.comment)\n",
        "\n",
        "clf_mnb = MultinomialNB(alpha=0.1)\n",
        "clf_mnb.fit(X, y)\n",
        "clf_mnb.classes_\n",
        "\n",
        "preds = clf_mnb.predict(X_test)\n",
        "print(classification_report(y_test, preds, zero_division=0))\n",
        "\n",
        "toxic5 = []\n",
        "\n",
        "for i in np.sort(clf_mnb.feature_log_prob_[1])[::-1][:5]:\n",
        "  toxic5.append(list(clf_mnb.feature_log_prob_[1]).index(i))\n",
        "vectorizer_count.get_feature_names_out()[toxic5]\n",
        "\n",
        "# странная выдача, честно говоря, но у меня не получилось найти аналог .coef_ для этого и других байесовских классификаторов"
      ],
      "metadata": {
        "colab": {
          "base_uri": "https://localhost:8080/"
        },
        "id": "z0ykkk3o2MBv",
        "outputId": "4955c456-0f50-4e1d-bdbf-e65a098fe130"
      },
      "id": "z0ykkk3o2MBv",
      "execution_count": 176,
      "outputs": [
        {
          "output_type": "stream",
          "name": "stderr",
          "text": [
            "/usr/local/lib/python3.10/dist-packages/sklearn/feature_extraction/text.py:528: UserWarning: The parameter 'token_pattern' will not be used since 'tokenizer' is not None'\n",
            "  warnings.warn(\n"
          ]
        },
        {
          "output_type": "stream",
          "name": "stdout",
          "text": [
            "              precision    recall  f1-score   support\n",
            "\n",
            "         0.0       0.88      0.93      0.90       941\n",
            "         1.0       0.84      0.76      0.80       501\n",
            "\n",
            "    accuracy                           0.87      1442\n",
            "   macro avg       0.86      0.84      0.85      1442\n",
            "weighted avg       0.87      0.87      0.87      1442\n",
            "\n"
          ]
        },
        {
          "output_type": "execute_result",
          "data": {
            "text/plain": [
              "array(['это', 'просто', '...', 'тебе', 'всё'], dtype=object)"
            ]
          },
          "metadata": {},
          "execution_count": 176
        }
      ]
    },
    {
      "cell_type": "code",
      "source": [
        "vectorizer_count = CountVectorizer(stop_words=list_of_stopwords, tokenizer=razdel_tokenize)\n",
        "X = vectorizer_count.fit_transform(train.comment)\n",
        "X_test = vectorizer_count.transform(test.comment)\n",
        "\n",
        "clf_randfor = RandomForestClassifier(n_estimators=100, max_depth=100, )\n",
        "clf_randfor.fit(X, y)\n",
        "clf_randfor.classes_\n",
        "\n",
        "preds = clf_randfor.predict(X_test)\n",
        "print(classification_report(y_test, preds, zero_division=0))\n",
        "\n",
        "toxic5 = []\n",
        "\n",
        "for i in np.sort(clf_randfor.feature_importances_)[::-1][:5]:\n",
        "  toxic5.append(list(clf_randfor.feature_importances_).index(i))\n",
        "vectorizer_count.get_feature_names_out()[toxic5]"
      ],
      "metadata": {
        "colab": {
          "base_uri": "https://localhost:8080/"
        },
        "id": "6bIMjnNe2r4J",
        "outputId": "d685913e-627b-45e0-93c8-5d1ffeb0fc5f"
      },
      "id": "6bIMjnNe2r4J",
      "execution_count": 139,
      "outputs": [
        {
          "output_type": "stream",
          "name": "stderr",
          "text": [
            "/usr/local/lib/python3.10/dist-packages/sklearn/feature_extraction/text.py:528: UserWarning: The parameter 'token_pattern' will not be used since 'tokenizer' is not None'\n",
            "  warnings.warn(\n"
          ]
        },
        {
          "output_type": "stream",
          "name": "stdout",
          "text": [
            "              precision    recall  f1-score   support\n",
            "\n",
            "         0.0       0.73      0.99      0.84       941\n",
            "         1.0       0.95      0.30      0.45       501\n",
            "\n",
            "    accuracy                           0.75      1442\n",
            "   macro avg       0.84      0.64      0.64      1442\n",
            "weighted avg       0.81      0.75      0.70      1442\n",
            "\n"
          ]
        },
        {
          "output_type": "execute_result",
          "data": {
            "text/plain": [
              "array(['хохлов', 'хохлы', 'тебе', 'нахуй', 'очень'], dtype=object)"
            ]
          },
          "metadata": {},
          "execution_count": 139
        }
      ]
    }
  ],
  "metadata": {
    "kernelspec": {
      "display_name": "Python 3 (ipykernel)",
      "language": "python",
      "name": "python3"
    },
    "language_info": {
      "codemirror_mode": {
        "name": "ipython",
        "version": 3
      },
      "file_extension": ".py",
      "mimetype": "text/x-python",
      "name": "python",
      "nbconvert_exporter": "python",
      "pygments_lexer": "ipython3",
      "version": "3.8.10"
    },
    "colab": {
      "provenance": []
    }
  },
  "nbformat": 4,
  "nbformat_minor": 5
}